{
 "cells": [
  {
   "cell_type": "markdown",
   "metadata": {},
   "source": [
    "# Data Challenge #2 - Pricing Test\n",
    "Company XYZ sells a software for 39 dollars, and this company conducted a test where raised price of 59 dollars was shown to 33% of the users. The goal of this analysis is to determin whether the company should raise the price for all the users. <br>"
   ]
  },
  {
   "cell_type": "code",
   "execution_count": 220,
   "metadata": {},
   "outputs": [],
   "source": [
    "# loading packages\n",
    "import matplotlib.pyplot as plt\n",
    "import missingno as msno\n",
    "import numpy as np\n",
    "import pandas as pd\n",
    "from scipy.stats import ttest_ind, ttest_ind_from_stats"
   ]
  },
  {
   "cell_type": "markdown",
   "metadata": {},
   "source": [
    "## 1. Load the data\n",
    "First, I will load the 'test_results' data, which is the user behavior test for increased price. 66% of the users were randomly selected for the old price at 39 while the rest was shown an increased price at $59. "
   ]
  },
  {
   "cell_type": "code",
   "execution_count": 221,
   "metadata": {},
   "outputs": [],
   "source": [
    "test_results = pd.read_csv('test_results.csv')\n",
    "#user_table = pd.read_csv('user_table.csv')"
   ]
  },
  {
   "cell_type": "code",
   "execution_count": 203,
   "metadata": {},
   "outputs": [
    {
     "data": {
      "text/html": [
       "<div>\n",
       "<style scoped>\n",
       "    .dataframe tbody tr th:only-of-type {\n",
       "        vertical-align: middle;\n",
       "    }\n",
       "\n",
       "    .dataframe tbody tr th {\n",
       "        vertical-align: top;\n",
       "    }\n",
       "\n",
       "    .dataframe thead th {\n",
       "        text-align: right;\n",
       "    }\n",
       "</style>\n",
       "<table border=\"1\" class=\"dataframe\">\n",
       "  <thead>\n",
       "    <tr style=\"text-align: right;\">\n",
       "      <th></th>\n",
       "      <th>Unnamed: 0</th>\n",
       "      <th>user_id</th>\n",
       "      <th>timestamp</th>\n",
       "      <th>source</th>\n",
       "      <th>device</th>\n",
       "      <th>operative_system</th>\n",
       "      <th>test</th>\n",
       "      <th>price</th>\n",
       "      <th>converted</th>\n",
       "      <th>profit</th>\n",
       "    </tr>\n",
       "  </thead>\n",
       "  <tbody>\n",
       "    <tr>\n",
       "      <th>0</th>\n",
       "      <td>0</td>\n",
       "      <td>604839</td>\n",
       "      <td>2015-05-08 03:38:34</td>\n",
       "      <td>ads_facebook</td>\n",
       "      <td>mobile</td>\n",
       "      <td>iOS</td>\n",
       "      <td>0</td>\n",
       "      <td>39.0</td>\n",
       "      <td>0</td>\n",
       "      <td>0.0</td>\n",
       "    </tr>\n",
       "    <tr>\n",
       "      <th>1</th>\n",
       "      <td>1</td>\n",
       "      <td>624057</td>\n",
       "      <td>2015-05-10 21:08:46</td>\n",
       "      <td>seo-google</td>\n",
       "      <td>mobile</td>\n",
       "      <td>android</td>\n",
       "      <td>0</td>\n",
       "      <td>39.0</td>\n",
       "      <td>0</td>\n",
       "      <td>0.0</td>\n",
       "    </tr>\n",
       "    <tr>\n",
       "      <th>2</th>\n",
       "      <td>2</td>\n",
       "      <td>317970</td>\n",
       "      <td>2015-04-04 15:01:23</td>\n",
       "      <td>ads-bing</td>\n",
       "      <td>mobile</td>\n",
       "      <td>android</td>\n",
       "      <td>0</td>\n",
       "      <td>39.0</td>\n",
       "      <td>0</td>\n",
       "      <td>0.0</td>\n",
       "    </tr>\n",
       "    <tr>\n",
       "      <th>3</th>\n",
       "      <td>3</td>\n",
       "      <td>685636</td>\n",
       "      <td>2015-05-07 07:26:01</td>\n",
       "      <td>direct_traffic</td>\n",
       "      <td>mobile</td>\n",
       "      <td>iOS</td>\n",
       "      <td>1</td>\n",
       "      <td>59.0</td>\n",
       "      <td>0</td>\n",
       "      <td>0.0</td>\n",
       "    </tr>\n",
       "    <tr>\n",
       "      <th>4</th>\n",
       "      <td>4</td>\n",
       "      <td>820854</td>\n",
       "      <td>2015-05-24 11:04:40</td>\n",
       "      <td>ads_facebook</td>\n",
       "      <td>web</td>\n",
       "      <td>mac</td>\n",
       "      <td>0</td>\n",
       "      <td>39.0</td>\n",
       "      <td>0</td>\n",
       "      <td>0.0</td>\n",
       "    </tr>\n",
       "  </tbody>\n",
       "</table>\n",
       "</div>"
      ],
      "text/plain": [
       "   Unnamed: 0  user_id            timestamp          source  device  \\\n",
       "0           0   604839  2015-05-08 03:38:34    ads_facebook  mobile   \n",
       "1           1   624057  2015-05-10 21:08:46      seo-google  mobile   \n",
       "2           2   317970  2015-04-04 15:01:23        ads-bing  mobile   \n",
       "3           3   685636  2015-05-07 07:26:01  direct_traffic  mobile   \n",
       "4           4   820854  2015-05-24 11:04:40    ads_facebook     web   \n",
       "\n",
       "  operative_system  test  price  converted  profit  \n",
       "0              iOS     0   39.0          0     0.0  \n",
       "1          android     0   39.0          0     0.0  \n",
       "2          android     0   39.0          0     0.0  \n",
       "3              iOS     1   59.0          0     0.0  \n",
       "4              mac     0   39.0          0     0.0  "
      ]
     },
     "execution_count": 203,
     "metadata": {},
     "output_type": "execute_result"
    }
   ],
   "source": [
    "test_results.head()"
   ]
  },
  {
   "cell_type": "code",
   "execution_count": 222,
   "metadata": {
    "scrolled": true
   },
   "outputs": [
    {
     "name": "stdout",
     "output_type": "stream",
     "text": [
      "<class 'pandas.core.frame.DataFrame'>\n",
      "RangeIndex: 316800 entries, 0 to 316799\n",
      "Data columns (total 9 columns):\n",
      "Unnamed: 0          316800 non-null int64\n",
      "user_id             316800 non-null int64\n",
      "timestamp           316466 non-null object\n",
      "source              316488 non-null object\n",
      "device              316800 non-null object\n",
      "operative_system    296461 non-null object\n",
      "test                316800 non-null int64\n",
      "price               316800 non-null float64\n",
      "converted           316800 non-null int64\n",
      "dtypes: float64(1), int64(4), object(4)\n",
      "memory usage: 21.8+ MB\n"
     ]
    }
   ],
   "source": [
    "test_results.info()"
   ]
  },
  {
   "cell_type": "markdown",
   "metadata": {},
   "source": [
    "## 2. Pre-processing\n",
    "Pre-processing each variable\n",
    " The 'source', 'device' and 'operative_system' parameters will be examined and converted to catagorical variables.  <br> The information of the data shows that the variable 'operative_system' has about 20k missing values, which will be imputed.\n",
    "<br> The 'timestamp' will be converted to timestamp format. <br> Check 'test' and 'price' are the same thing."
   ]
  },
  {
   "cell_type": "markdown",
   "metadata": {},
   "source": [
    "### timestamp\n",
    "Problem of timestamp: in this timestamp format, time were counting from 1-60, and can't be recongnized by pandas which count time from 0-59 <br> \n",
    "Inhere, I will just the original time if can't convert"
   ]
  },
  {
   "cell_type": "code",
   "execution_count": 223,
   "metadata": {
    "scrolled": true
   },
   "outputs": [],
   "source": [
    "# convert timestamp to the datetime type\n",
    "test_results[\"timestamp\"] =pd.to_datetime(test_results['timestamp'], errors='ignore', ) #return nonvalid as original\n"
   ]
  },
  {
   "cell_type": "code",
   "execution_count": 224,
   "metadata": {
    "scrolled": true
   },
   "outputs": [
    {
     "name": "stdout",
     "output_type": "stream",
     "text": [
      "<class 'pandas.core.frame.DataFrame'>\n",
      "RangeIndex: 316800 entries, 0 to 316799\n",
      "Data columns (total 1 columns):\n",
      "timestamp    305905 non-null datetime64[ns]\n",
      "dtypes: datetime64[ns](1)\n",
      "memory usage: 2.4 MB\n"
     ]
    }
   ],
   "source": [
    "df_timestamps = pd.to_datetime(test_results['timestamp'], errors='coerce' )\n",
    "pd.DataFrame(df_timestamp).info()"
   ]
  },
  {
   "cell_type": "code",
   "execution_count": 225,
   "metadata": {
    "scrolled": true
   },
   "outputs": [
    {
     "data": {
      "text/plain": [
       "54        2015-04-24 12:60:46\n",
       "104       2015-04-24 11:60:20\n",
       "121       2015-03-14 12:60:02\n",
       "278       2015-04-04 02:23:60\n",
       "282       2015-05-11 12:60:53\n",
       "287       2015-04-26 11:60:44\n",
       "330       2015-03-20 12:20:60\n",
       "361       2015-04-10 07:42:60\n",
       "383       2015-03-10 12:31:60\n",
       "388       2815-04-11 11:23:54\n",
       "422       2015-04-17 12:10:60\n",
       "430       2015-05-22 04:59:60\n",
       "470       2015-05-31 15:60:59\n",
       "474       2015-04-02 07:60:10\n",
       "515       2015-04-16 17:02:60\n",
       "519       2015-05-08 10:55:60\n",
       "520       2015-05-15 20:11:60\n",
       "586                       NaN\n",
       "615       2015-05-01 10:49:60\n",
       "639       2015-04-23 12:60:59\n",
       "659       2015-05-07 18:60:11\n",
       "670       2015-03-08 16:17:60\n",
       "673       2815-03-27 12:34:19\n",
       "701       2015-04-27 12:60:39\n",
       "716       2015-04-10 09:60:26\n",
       "718       2015-04-19 11:07:60\n",
       "732       2015-05-15 17:41:60\n",
       "812       2015-03-29 07:27:60\n",
       "842       2015-03-08 08:21:60\n",
       "944       2015-04-03 18:60:05\n",
       "                 ...         \n",
       "315727    2015-05-02 14:25:60\n",
       "315757    2015-05-01 12:60:09\n",
       "315789    2015-03-04 00:60:36\n",
       "315851    2015-04-17 09:60:59\n",
       "315875    2015-04-24 17:60:53\n",
       "315906    2015-05-16 01:60:49\n",
       "315915    2015-04-23 11:15:60\n",
       "316019    2015-03-21 11:48:60\n",
       "316027                    NaN\n",
       "316035    2015-05-10 14:60:51\n",
       "316114    2015-04-17 07:60:49\n",
       "316138    2015-04-13 18:60:11\n",
       "316172    2015-04-23 18:01:60\n",
       "316275    2015-05-10 13:46:60\n",
       "316337    2015-04-05 03:20:60\n",
       "316370    2015-05-16 09:17:60\n",
       "316413    2015-03-28 17:44:60\n",
       "316438    2015-05-11 12:46:60\n",
       "316465    2015-04-13 11:52:60\n",
       "316510    2015-04-10 09:40:60\n",
       "316517                    NaN\n",
       "316522    2015-04-12 17:53:60\n",
       "316525    2015-05-11 12:60:53\n",
       "316558    2015-04-10 11:60:29\n",
       "316564    2015-03-08 19:06:60\n",
       "316566    2015-03-21 16:27:60\n",
       "316606    2015-05-29 14:34:60\n",
       "316709    2015-03-20 18:33:60\n",
       "316756    2015-03-06 22:33:60\n",
       "316771    2015-05-23 17:60:03\n",
       "Name: timestamp, Length: 10895, dtype: object"
      ]
     },
     "execution_count": 225,
     "metadata": {},
     "output_type": "execute_result"
    }
   ],
   "source": [
    "test_results['timestamp'].loc[df_timestamp.isnull()]"
   ]
  },
  {
   "cell_type": "markdown",
   "metadata": {},
   "source": [
    "### source\n",
    "Converting variable 'source' to catagorical datatype. "
   ]
  },
  {
   "cell_type": "code",
   "execution_count": 226,
   "metadata": {},
   "outputs": [
    {
     "data": {
      "text/plain": [
       "direct_traffic     60307\n",
       "ads-google         59319\n",
       "ads_facebook       53337\n",
       "ads_other          29849\n",
       "seo-google         23160\n",
       "ads-bing           22851\n",
       "seo_facebook       21185\n",
       "friend_referral    20672\n",
       "seo-other           9250\n",
       "ads-yahoo           7573\n",
       "seo-yahoo           6836\n",
       "seo-bing            2149\n",
       "Name: source, dtype: int64"
      ]
     },
     "execution_count": 226,
     "metadata": {},
     "output_type": "execute_result"
    }
   ],
   "source": [
    "test_results[\"source\"] = test_results[\"source\"].astype('category')\n",
    "test_results[\"source\"].value_counts()"
   ]
  },
  {
   "cell_type": "markdown",
   "metadata": {},
   "source": [
    "### \"device\""
   ]
  },
  {
   "cell_type": "code",
   "execution_count": 227,
   "metadata": {},
   "outputs": [
    {
     "data": {
      "text/plain": [
       "mobile    186471\n",
       "web       130329\n",
       "Name: device, dtype: int64"
      ]
     },
     "execution_count": 227,
     "metadata": {},
     "output_type": "execute_result"
    }
   ],
   "source": [
    "test_results[\"device\"] = test_results[\"device\"].astype('category')\n",
    "test_results[\"device\"].value_counts()"
   ]
  },
  {
   "cell_type": "markdown",
   "metadata": {},
   "source": [
    "### \"Operative_system\"\n",
    "Operative system is acutally related to device variable. For mobile device, OS has android and iOS. For web device, OS has windows, macOS and linux (linux doesn't have any representation here). The Operative system will be corrected according to the device type and imputed with the median operative_system under the device catagory."
   ]
  },
  {
   "cell_type": "code",
   "execution_count": 228,
   "metadata": {},
   "outputs": [
    {
     "data": {
      "text/plain": [
       "windows    100878\n",
       "iOS         95352\n",
       "android     74856\n",
       "mac         25056\n",
       "i0S           113\n",
       "wnddows        98\n",
       "anroid         79\n",
       "apple          29\n",
       "Name: operative_system, dtype: int64"
      ]
     },
     "execution_count": 228,
     "metadata": {},
     "output_type": "execute_result"
    }
   ],
   "source": [
    "test_results[\"operative_system\"] = test_results[\"operative_system\"].astype('category')\n",
    "test_results[\"operative_system\"].value_counts()"
   ]
  },
  {
   "cell_type": "code",
   "execution_count": 229,
   "metadata": {},
   "outputs": [],
   "source": [
    "# correcting for obvious ones\n",
    "test_results[\"operative_system\"].loc[test_results[\"operative_system\"]=='wnddows']='windows'\n",
    "test_results[\"operative_system\"].loc[test_results[\"operative_system\"]=='i0S']='iOS'\n",
    "test_results[\"operative_system\"].loc[test_results[\"operative_system\"]=='anroid']='android'"
   ]
  },
  {
   "cell_type": "code",
   "execution_count": 230,
   "metadata": {},
   "outputs": [
    {
     "data": {
      "text/plain": [
       "windows    100976\n",
       "mac         25056\n",
       "apple          29\n",
       "wnddows         0\n",
       "iOS             0\n",
       "i0S             0\n",
       "anroid          0\n",
       "android         0\n",
       "Name: operative_system, dtype: int64"
      ]
     },
     "execution_count": 230,
     "metadata": {},
     "output_type": "execute_result"
    }
   ],
   "source": [
    "# check where 'apple' belongs to\n",
    "test_results['operative_system'].loc[test_results['device']=='web'].value_counts()"
   ]
  },
  {
   "cell_type": "code",
   "execution_count": 231,
   "metadata": {},
   "outputs": [],
   "source": [
    "test_results[\"operative_system\"].loc[test_results[\"operative_system\"]=='apple']='mac'"
   ]
  },
  {
   "cell_type": "code",
   "execution_count": 232,
   "metadata": {},
   "outputs": [
    {
     "data": {
      "text/plain": [
       "windows    100976\n",
       "iOS         95465\n",
       "android     74935\n",
       "mac         25085\n",
       "wnddows         0\n",
       "i0S             0\n",
       "apple           0\n",
       "anroid          0\n",
       "Name: operative_system, dtype: int64"
      ]
     },
     "execution_count": 232,
     "metadata": {},
     "output_type": "execute_result"
    }
   ],
   "source": [
    "test_results[\"operative_system\"] = test_results[\"operative_system\"].astype('category')\n",
    "test_results[\"operative_system\"].value_counts()"
   ]
  },
  {
   "cell_type": "code",
   "execution_count": 233,
   "metadata": {
    "scrolled": true
   },
   "outputs": [],
   "source": [
    "# Impute the missing device type with the median of device type, 'web'->'windows', 'mobile' -> 'iOS'\n",
    "test_results['operative_system'].loc[(test_results[\"operative_system\"].isnull()) & (test_results[\"device\"]=='web')] = 'windows'\n",
    "test_results['operative_system'].loc[(test_results[\"operative_system\"].isnull()) & (test_results[\"device\"]=='mobile')] = 'iOS'\n"
   ]
  },
  {
   "cell_type": "markdown",
   "metadata": {},
   "source": [
    "### 'test' and 'price'\n",
    "The description suggest that when test = 1, users were shown the price of 59, while test = 0, users were shown the price of 39. We will double check this if there's any mis-label. <br> <br>\n",
    "Rows with nconsistent labeling between 'test' and 'price' will be dropped because it's not clear which variable is reliable"
   ]
  },
  {
   "cell_type": "code",
   "execution_count": 234,
   "metadata": {},
   "outputs": [
    {
     "data": {
      "text/plain": [
       "0    202727\n",
       "1    114073\n",
       "Name: test, dtype: int64"
      ]
     },
     "execution_count": 234,
     "metadata": {},
     "output_type": "execute_result"
    }
   ],
   "source": [
    "test_results['test'].value_counts()"
   ]
  },
  {
   "cell_type": "code",
   "execution_count": 235,
   "metadata": {},
   "outputs": [
    {
     "data": {
      "text/plain": [
       "Int64Index([  8238,   8369,  11555,  12848,  14630,  15020,  15724,  17252,\n",
       "             20623,  22979,\n",
       "            ...\n",
       "            305508, 307444, 308723, 310426, 312287, 312725, 313735, 314275,\n",
       "            315529, 316663],\n",
       "           dtype='int64', length=209)"
      ]
     },
     "execution_count": 235,
     "metadata": {},
     "output_type": "execute_result"
    }
   ],
   "source": [
    "test_results.index[(test_results[\"test\"]==0) &(test_results[\"price\"]==59)]"
   ]
  },
  {
   "cell_type": "code",
   "execution_count": 236,
   "metadata": {
    "scrolled": true
   },
   "outputs": [],
   "source": [
    "test_results = test_results.drop(test_results.index[(test_results[\"test\"]==0) &(test_results[\"price\"]==59)]);\n",
    "test_results =test_results.drop(test_results.index[(test_results[\"test\"]==1) &(test_results[\"price\"]==39)]);"
   ]
  },
  {
   "cell_type": "code",
   "execution_count": 237,
   "metadata": {},
   "outputs": [
    {
     "data": {
      "text/plain": [
       "316437"
      ]
     },
     "execution_count": 237,
     "metadata": {},
     "output_type": "execute_result"
    }
   ],
   "source": [
    "len(test_results)"
   ]
  },
  {
   "cell_type": "markdown",
   "metadata": {},
   "source": [
    "### drop price that are not 39 or 59"
   ]
  },
  {
   "cell_type": "code",
   "execution_count": 251,
   "metadata": {},
   "outputs": [],
   "source": [
    "test_results = test_results.drop(test_results.index[(test_results['price']!=39) & (test_results['price']!=59)])"
   ]
  },
  {
   "cell_type": "code",
   "execution_count": 252,
   "metadata": {},
   "outputs": [
    {
     "data": {
      "text/plain": [
       "313363"
      ]
     },
     "execution_count": 252,
     "metadata": {},
     "output_type": "execute_result"
    }
   ],
   "source": [
    "len(test_results)"
   ]
  },
  {
   "cell_type": "code",
   "execution_count": 282,
   "metadata": {},
   "outputs": [
    {
     "data": {
      "text/plain": [
       "<matplotlib.axes._subplots.AxesSubplot at 0x7f667fe464e0>"
      ]
     },
     "execution_count": 282,
     "metadata": {},
     "output_type": "execute_result"
    },
    {
     "data": {
      "image/png": "[encoded data removed]",
      "text/plain": [
       "<matplotlib.figure.Figure at 0x7f668a9a8860>"
      ]
     },
     "metadata": {},
     "output_type": "display_data"
    }
   ],
   "source": [
    "msno.matrix(test_results)"
   ]
  },
  {
   "cell_type": "markdown",
   "metadata": {},
   "source": [
    "## 3. Feature engineering"
   ]
  },
  {
   "cell_type": "markdown",
   "metadata": {},
   "source": [
    "### New feature: 'Profit'\n",
    "This variable is the profit that made from user "
   ]
  },
  {
   "cell_type": "code",
   "execution_count": 254,
   "metadata": {},
   "outputs": [],
   "source": [
    "test_results['profit']= test_results['price'].astype(int)*test_results['converted'].astype(int)"
   ]
  },
  {
   "cell_type": "markdown",
   "metadata": {},
   "source": [
    "### New feature: source_code\n",
    "reduce the variable 'source' to 'direct_traffic', 'ads', 'seo', 'friend_referral'"
   ]
  },
  {
   "cell_type": "code",
   "execution_count": 294,
   "metadata": {
    "scrolled": true
   },
   "outputs": [
    {
     "name": "stderr",
     "output_type": "stream",
     "text": [
      "/home/ying/anaconda3/lib/python3.6/site-packages/pandas/core/indexing.py:194: SettingWithCopyWarning: \n",
      "A value is trying to be set on a copy of a slice from a DataFrame\n",
      "\n",
      "See the caveats in the documentation: http://pandas.pydata.org/pandas-docs/stable/indexing.html#indexing-view-versus-copy\n",
      "  self._setitem_with_indexer(indexer, value)\n"
     ]
    }
   ],
   "source": [
    "test_results['source_code'] = test_results['source'].astype('object')\n",
    "test_results['source_code'].loc[test_results['source'] == 'ads-google'] = 'ads'\n",
    "test_results['source_code'].loc[test_results['source'] == 'ads_facebook'] = 'ads'\n",
    "test_results['source_code'].loc[test_results['source'] == 'ads-yahoo'] = 'ads'\n",
    "test_results['source_code'].loc[test_results['source'] == 'ads-bing'] = 'ads'\n",
    "test_results['source_code'].loc[test_results['source'] == 'ads_other'] = 'ads'\n",
    "\n",
    "test_results['source_code'].loc[test_results['source'] == 'seo-google'] = 'seo'\n",
    "test_results['source_code'].loc[test_results['source'] == 'seo_facebook'] = 'seo'\n",
    "test_results['source_code'].loc[test_results['source'] == 'seo-yahoo'] = 'seo'\n",
    "test_results['source_code'].loc[test_results['source'] == 'seo-bing'] = 'seo'\n",
    "test_results['source_code'].loc[test_results['source'] == 'seo-other'] = 'seo'"
   ]
  },
  {
   "cell_type": "code",
   "execution_count": 295,
   "metadata": {},
   "outputs": [
    {
     "data": {
      "text/plain": [
       "ads                171049\n",
       "seo                 61898\n",
       "direct_traffic      59650\n",
       "friend_referral     20459\n",
       "Name: source_code, dtype: int64"
      ]
     },
     "execution_count": 295,
     "metadata": {},
     "output_type": "execute_result"
    }
   ],
   "source": [
    "test_results[\"source_code\"] = test_results[\"source_code\"].astype('category')\n",
    "test_results[\"source_code\"].value_counts()"
   ]
  },
  {
   "cell_type": "markdown",
   "metadata": {},
   "source": [
    "## 4. Should the company sell its software at 39 or 59?\n"
   ]
  },
  {
   "cell_type": "markdown",
   "metadata": {},
   "source": [
    "### Conversion Rate\n",
    "Statistical t-test is performed to evaluate the conversion rate for two prices."
   ]
  },
  {
   "cell_type": "code",
   "execution_count": 255,
   "metadata": {},
   "outputs": [
    {
     "name": "stdout",
     "output_type": "stream",
     "text": [
      "Conversion Rate with $39: 0.0199\n"
     ]
    }
   ],
   "source": [
    "# conversion rate for lower price\n",
    "p0 = sum((test_results[\"test\"]==0) & (test_results[\"converted\"]==1))/sum(test_results[\"test\"]==0)\n",
    "print('Conversion Rate with $39: '+ str(round(p0,4)))"
   ]
  },
  {
   "cell_type": "code",
   "execution_count": 256,
   "metadata": {},
   "outputs": [
    {
     "name": "stdout",
     "output_type": "stream",
     "text": [
      "Conversion Rate with $59: 0.0156\n"
     ]
    }
   ],
   "source": [
    "# conversion rate for higher price\n",
    "p1 = sum((test_results[\"test\"]==1) & (test_results[\"converted\"]==1))/sum(test_results[\"test\"]==1)\n",
    "print('Conversion Rate with $59: '+ str(round(p1,4)))"
   ]
  },
  {
   "cell_type": "code",
   "execution_count": 257,
   "metadata": {},
   "outputs": [
    {
     "name": "stdout",
     "output_type": "stream",
     "text": [
      "t-test result:  t = 8.97607  p = 2.82418e-19\n"
     ]
    }
   ],
   "source": [
    "t, p = ttest_ind(test_results['converted'].loc[test_results[\"test\"]==0], test_results['converted'].loc[test_results[\"test\"]==1], equal_var=False)\n",
    "print(\"t-test result:  t = %g  p = %g\" % (t, p))\n"
   ]
  },
  {
   "cell_type": "markdown",
   "metadata": {},
   "source": [
    " The results of t-test shows that the p-value is very small. This result can be interpreted as a significant change in the conversion rate (buying rate) due to the change in price. \n"
   ]
  },
  {
   "cell_type": "markdown",
   "metadata": {},
   "source": [
    "### Revenue\n",
    "Decrease in conversion rate is expected when the price is raised. However, a more important aspect of the study is to evaluate the impact on revenue. "
   ]
  },
  {
   "cell_type": "code",
   "execution_count": 259,
   "metadata": {},
   "outputs": [
    {
     "name": "stdout",
     "output_type": "stream",
     "text": [
      "Expected income per user visit = 0.776\n"
     ]
    }
   ],
   "source": [
    "E_p0 = sum(test_results['profit'].loc[test_results[\"test\"]==0])/sum(test_results[\"test\"]==0)\n",
    "print('Expected income per user visit for $39 = ' + str(round(E_p0,3)))"
   ]
  },
  {
   "cell_type": "code",
   "execution_count": 260,
   "metadata": {},
   "outputs": [
    {
     "name": "stdout",
     "output_type": "stream",
     "text": [
      "Expected income per user visit for $59 = 0.918\n"
     ]
    }
   ],
   "source": [
    "E_p1 = sum(test_results['profit'].loc[test_results[\"test\"]==1])/sum(test_results[\"test\"]==1)\n",
    "print('Expected income per user visit for $59 = ' + str(round(E_p1,3)))"
   ]
  },
  {
   "cell_type": "code",
   "execution_count": 261,
   "metadata": {},
   "outputs": [
    {
     "name": "stdout",
     "output_type": "stream",
     "text": [
      "t-test result:  t = 62.4878  p = 0\n"
     ]
    }
   ],
   "source": [
    "t, p = ttest_ind(test_results['profit'].loc[test_results[\"test\"]==0], test_results['converted'].loc[test_results[\"test\"]==1], equal_var=False)\n",
    "print(\"t-test result:  t = %g  p = %g\" % (t, p))\n"
   ]
  },
  {
   "cell_type": "markdown",
   "metadata": {},
   "source": [
    "# Summary\n",
    "### Even though the conversion rate has decreased with raised price, the company actually made more money from users with raised price. Therefore, the company should raise the price to 59 dollars according to this test."
   ]
  },
  {
   "cell_type": "markdown",
   "metadata": {},
   "source": [
    "## 5. Insights of user behavior -- incomplete"
   ]
  },
  {
   "cell_type": "code",
   "execution_count": 183,
   "metadata": {
    "scrolled": true
   },
   "outputs": [
    {
     "data": {
      "image/png": "[encoded data removed]",
      "text/plain": [
       "<matplotlib.figure.Figure at 0x7f668acdc668>"
      ]
     },
     "metadata": {},
     "output_type": "display_data"
    }
   ],
   "source": [
    "plt.hist(test_results.loc[(test_results['converted']==0)&(test_results['test']==j)].iloc[:,4])\n",
    "plt.show()"
   ]
  },
  {
   "cell_type": "code",
   "execution_count": 186,
   "metadata": {},
   "outputs": [
    {
     "name": "stderr",
     "output_type": "stream",
     "text": [
      "/home/ying/anaconda3/lib/python3.6/site-packages/ipykernel_launcher.py:5: MatplotlibDeprecationWarning: pyplot.hold is deprecated.\n",
      "    Future behavior will be consistent with the long-time default:\n",
      "    plot commands add elements without first clearing the\n",
      "    Axes and/or Figure.\n",
      "  \"\"\"\n",
      "/home/ying/anaconda3/lib/python3.6/site-packages/matplotlib/__init__.py:805: MatplotlibDeprecationWarning: axes.hold is deprecated. Please remove it from your matplotlibrc and/or style files.\n",
      "  mplDeprecation)\n",
      "/home/ying/anaconda3/lib/python3.6/site-packages/matplotlib/rcsetup.py:155: MatplotlibDeprecationWarning: axes.hold is deprecated, will be removed in 3.0\n",
      "  mplDeprecation)\n"
     ]
    },
    {
     "data": {
      "image/png": "[encoded data removed]",
      "text/plain": [
       "<matplotlib.figure.Figure at 0x7f668a567e80>"
      ]
     },
     "metadata": {},
     "output_type": "display_data"
    }
   ],
   "source": [
    "fig, ax = plt.subplots(2,2, figsize = (15,15))\n",
    "for i in range(2):\n",
    "    for j in range(2):\n",
    "        ax[i,j].hist(test_results.loc[(test_results['converted']==0)&(test_results['test']==j)].iloc[:,5], alpha = 0.5)\n",
    "        plt.hold(True)\n",
    "        ax[i,j].hist(test_results.loc[(test_results['converted']==1)&(test_results['test']==j)].iloc[:,5], alpha = 0.5)\n",
    "        ax[i,j].title.set_text(test_results.keys()[5])\n",
    "plt.show()"
   ]
  },
  {
   "cell_type": "code",
   "execution_count": 296,
   "metadata": {},
   "outputs": [
    {
     "name": "stderr",
     "output_type": "stream",
     "text": [
      "/home/ying/anaconda3/lib/python3.6/site-packages/ipykernel_launcher.py:5: MatplotlibDeprecationWarning: pyplot.hold is deprecated.\n",
      "    Future behavior will be consistent with the long-time default:\n",
      "    plot commands add elements without first clearing the\n",
      "    Axes and/or Figure.\n",
      "  \"\"\"\n",
      "/home/ying/anaconda3/lib/python3.6/site-packages/matplotlib/__init__.py:805: MatplotlibDeprecationWarning: axes.hold is deprecated. Please remove it from your matplotlibrc and/or style files.\n",
      "  mplDeprecation)\n",
      "/home/ying/anaconda3/lib/python3.6/site-packages/matplotlib/rcsetup.py:155: MatplotlibDeprecationWarning: axes.hold is deprecated, will be removed in 3.0\n",
      "  mplDeprecation)\n"
     ]
    },
    {
     "data": {
      "image/png": "[encoded data removed]",
      "text/plain": [
       "<matplotlib.figure.Figure at 0x7f667fe33ef0>"
      ]
     },
     "metadata": {},
     "output_type": "display_data"
    }
   ],
   "source": [
    "fig, ax = plt.subplots(2,2, figsize = (15,15))\n",
    "for i in range(2):\n",
    "    for j in range(2):\n",
    "        ax[i,j].hist(test_results.loc[(test_results['test']==j)].iloc[:,5], alpha = 0.5)\n",
    "        plt.hold(True)\n",
    "        ax[i,j].hist(test_results.loc[(test_results['test']==j)].iloc[:,5], alpha = 0.5)\n",
    "        ax[i,j].title.set_text(test_results.keys()[5])\n",
    "plt.show()"
   ]
  },
  {
   "cell_type": "code",
   "execution_count": null,
   "metadata": {},
   "outputs": [],
   "source": []
  }
 ],
 "metadata": {
  "kernelspec": {
   "display_name": "Python 3",
   "language": "python",
   "name": "python3"
  },
  "language_info": {
   "codemirror_mode": {
    "name": "ipython",
    "version": 3
   },
   "file_extension": ".py",
   "mimetype": "text/x-python",
   "name": "python",
   "nbconvert_exporter": "python",
   "pygments_lexer": "ipython3",
   "version": "3.6.4"
  }
 },
 "nbformat": 4,
 "nbformat_minor": 2
}
