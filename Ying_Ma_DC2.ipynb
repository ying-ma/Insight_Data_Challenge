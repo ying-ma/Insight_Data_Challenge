{
 "cells": [
  {
   "cell_type": "markdown",
   "metadata": {},
   "source": [
    "# Data Challenge #2 - Pricing Test\n",
    "Company XYZ sells a software for 39 dollars, and this company conducted a test where raised price of 59 dollars was shown to 33% of the users. The goal of this analysis is to determin whether the company should raise the price for all the users. <br>"
   ]
  },
  {
   "cell_type": "code",
   "execution_count": 1,
   "metadata": {},
   "outputs": [],
   "source": [
    "# loading packages\n",
    "import matplotlib.pyplot as plt\n",
    "import missingno as msno\n",
    "import numpy as np\n",
    "import pandas as pd\n",
    "from scipy.stats import ttest_ind, ttest_ind_from_stats"
   ]
  },
  {
   "cell_type": "markdown",
   "metadata": {},
   "source": [
    "## 1. Load the data\n",
    "First, I will load the 'test_results' data, which is the user behavior test for increased price. 66% of the users were randomly selected for the old price at 39 while the rest was shown an increased price at $59. "
   ]
  },
  {
   "cell_type": "code",
   "execution_count": 2,
   "metadata": {},
   "outputs": [],
   "source": [
    "test_results = pd.read_csv('/home/ying/18B/Data-Challenge-2/test_results.csv')\n",
    "#user_table = pd.read_csv('user_table.csv')"
   ]
  },
  {
   "cell_type": "code",
   "execution_count": 3,
   "metadata": {},
   "outputs": [
    {
     "data": {
      "text/html": [
       "<div>\n",
       "<style scoped>\n",
       "    .dataframe tbody tr th:only-of-type {\n",
       "        vertical-align: middle;\n",
       "    }\n",
       "\n",
       "    .dataframe tbody tr th {\n",
       "        vertical-align: top;\n",
       "    }\n",
       "\n",
       "    .dataframe thead th {\n",
       "        text-align: right;\n",
       "    }\n",
       "</style>\n",
       "<table border=\"1\" class=\"dataframe\">\n",
       "  <thead>\n",
       "    <tr style=\"text-align: right;\">\n",
       "      <th></th>\n",
       "      <th>Unnamed: 0</th>\n",
       "      <th>user_id</th>\n",
       "      <th>timestamp</th>\n",
       "      <th>source</th>\n",
       "      <th>device</th>\n",
       "      <th>operative_system</th>\n",
       "      <th>test</th>\n",
       "      <th>price</th>\n",
       "      <th>converted</th>\n",
       "    </tr>\n",
       "  </thead>\n",
       "  <tbody>\n",
       "    <tr>\n",
       "      <th>0</th>\n",
       "      <td>0</td>\n",
       "      <td>604839</td>\n",
       "      <td>2015-05-08 03:38:34</td>\n",
       "      <td>ads_facebook</td>\n",
       "      <td>mobile</td>\n",
       "      <td>iOS</td>\n",
       "      <td>0</td>\n",
       "      <td>39.0</td>\n",
       "      <td>0</td>\n",
       "    </tr>\n",
       "    <tr>\n",
       "      <th>1</th>\n",
       "      <td>1</td>\n",
       "      <td>624057</td>\n",
       "      <td>2015-05-10 21:08:46</td>\n",
       "      <td>seo-google</td>\n",
       "      <td>mobile</td>\n",
       "      <td>android</td>\n",
       "      <td>0</td>\n",
       "      <td>39.0</td>\n",
       "      <td>0</td>\n",
       "    </tr>\n",
       "    <tr>\n",
       "      <th>2</th>\n",
       "      <td>2</td>\n",
       "      <td>317970</td>\n",
       "      <td>2015-04-04 15:01:23</td>\n",
       "      <td>ads-bing</td>\n",
       "      <td>mobile</td>\n",
       "      <td>android</td>\n",
       "      <td>0</td>\n",
       "      <td>39.0</td>\n",
       "      <td>0</td>\n",
       "    </tr>\n",
       "    <tr>\n",
       "      <th>3</th>\n",
       "      <td>3</td>\n",
       "      <td>685636</td>\n",
       "      <td>2015-05-07 07:26:01</td>\n",
       "      <td>direct_traffic</td>\n",
       "      <td>mobile</td>\n",
       "      <td>iOS</td>\n",
       "      <td>1</td>\n",
       "      <td>59.0</td>\n",
       "      <td>0</td>\n",
       "    </tr>\n",
       "    <tr>\n",
       "      <th>4</th>\n",
       "      <td>4</td>\n",
       "      <td>820854</td>\n",
       "      <td>2015-05-24 11:04:40</td>\n",
       "      <td>ads_facebook</td>\n",
       "      <td>web</td>\n",
       "      <td>mac</td>\n",
       "      <td>0</td>\n",
       "      <td>39.0</td>\n",
       "      <td>0</td>\n",
       "    </tr>\n",
       "  </tbody>\n",
       "</table>\n",
       "</div>"
      ],
      "text/plain": [
       "   Unnamed: 0  user_id            timestamp          source  device  \\\n",
       "0           0   604839  2015-05-08 03:38:34    ads_facebook  mobile   \n",
       "1           1   624057  2015-05-10 21:08:46      seo-google  mobile   \n",
       "2           2   317970  2015-04-04 15:01:23        ads-bing  mobile   \n",
       "3           3   685636  2015-05-07 07:26:01  direct_traffic  mobile   \n",
       "4           4   820854  2015-05-24 11:04:40    ads_facebook     web   \n",
       "\n",
       "  operative_system  test  price  converted  \n",
       "0              iOS     0   39.0          0  \n",
       "1          android     0   39.0          0  \n",
       "2          android     0   39.0          0  \n",
       "3              iOS     1   59.0          0  \n",
       "4              mac     0   39.0          0  "
      ]
     },
     "execution_count": 3,
     "metadata": {},
     "output_type": "execute_result"
    }
   ],
   "source": [
    "test_results.head()"
   ]
  },
  {
   "cell_type": "code",
   "execution_count": 4,
   "metadata": {
    "scrolled": true
   },
   "outputs": [
    {
     "name": "stdout",
     "output_type": "stream",
     "text": [
      "<class 'pandas.core.frame.DataFrame'>\n",
      "RangeIndex: 316800 entries, 0 to 316799\n",
      "Data columns (total 9 columns):\n",
      "Unnamed: 0          316800 non-null int64\n",
      "user_id             316800 non-null int64\n",
      "timestamp           316466 non-null object\n",
      "source              316488 non-null object\n",
      "device              316800 non-null object\n",
      "operative_system    296461 non-null object\n",
      "test                316800 non-null int64\n",
      "price               316800 non-null float64\n",
      "converted           316800 non-null int64\n",
      "dtypes: float64(1), int64(4), object(4)\n",
      "memory usage: 21.8+ MB\n"
     ]
    }
   ],
   "source": [
    "test_results.info()"
   ]
  },
  {
   "cell_type": "markdown",
   "metadata": {},
   "source": [
    "## 2. Pre-processing\n",
    "Pre-processing each variable\n",
    " The 'source', 'device' and 'operative_system' parameters will be examined and converted to catagorical variables.  <br> The information of the data shows that the variable 'operative_system' has about 20k missing values, which will be imputed.\n",
    "<br> The 'timestamp' will be converted to timestamp format. <br> Check 'test' and 'price' are the same thing."
   ]
  },
  {
   "cell_type": "markdown",
   "metadata": {},
   "source": [
    "### timestamp\n",
    "Problem of timestamp: in this timestamp format, time were counting from 1-60, and can't be recongnized by pandas which count time from 0-59 <br> \n",
    "Inhere, I will just the original time if can't convert"
   ]
  },
  {
   "cell_type": "code",
   "execution_count": 5,
   "metadata": {
    "scrolled": true
   },
   "outputs": [],
   "source": [
    "# convert timestamp to the datetime type\n",
    "test_results[\"timestamp\"] =pd.to_datetime(test_results['timestamp'], errors='ignore', ) #return nonvalid as original\n"
   ]
  },
  {
   "cell_type": "code",
   "execution_count": 6,
   "metadata": {
    "scrolled": true
   },
   "outputs": [
    {
     "name": "stdout",
     "output_type": "stream",
     "text": [
      "<class 'pandas.core.frame.DataFrame'>\n",
      "RangeIndex: 316800 entries, 0 to 316799\n",
      "Data columns (total 1 columns):\n",
      "timestamp    305905 non-null datetime64[ns]\n",
      "dtypes: datetime64[ns](1)\n",
      "memory usage: 2.4 MB\n"
     ]
    }
   ],
   "source": [
    "df_timestamp = pd.to_datetime(test_results['timestamp'], errors='coerce' )\n",
    "pd.DataFrame(df_timestamp).info()"
   ]
  },
  {
   "cell_type": "code",
   "execution_count": 7,
   "metadata": {
    "scrolled": true
   },
   "outputs": [
    {
     "data": {
      "text/plain": [
       "54        2015-04-24 12:60:46\n",
       "104       2015-04-24 11:60:20\n",
       "121       2015-03-14 12:60:02\n",
       "278       2015-04-04 02:23:60\n",
       "282       2015-05-11 12:60:53\n",
       "287       2015-04-26 11:60:44\n",
       "330       2015-03-20 12:20:60\n",
       "361       2015-04-10 07:42:60\n",
       "383       2015-03-10 12:31:60\n",
       "388       2815-04-11 11:23:54\n",
       "422       2015-04-17 12:10:60\n",
       "430       2015-05-22 04:59:60\n",
       "470       2015-05-31 15:60:59\n",
       "474       2015-04-02 07:60:10\n",
       "515       2015-04-16 17:02:60\n",
       "519       2015-05-08 10:55:60\n",
       "520       2015-05-15 20:11:60\n",
       "586                       NaN\n",
       "615       2015-05-01 10:49:60\n",
       "639       2015-04-23 12:60:59\n",
       "659       2015-05-07 18:60:11\n",
       "670       2015-03-08 16:17:60\n",
       "673       2815-03-27 12:34:19\n",
       "701       2015-04-27 12:60:39\n",
       "716       2015-04-10 09:60:26\n",
       "718       2015-04-19 11:07:60\n",
       "732       2015-05-15 17:41:60\n",
       "812       2015-03-29 07:27:60\n",
       "842       2015-03-08 08:21:60\n",
       "944       2015-04-03 18:60:05\n",
       "                 ...         \n",
       "315727    2015-05-02 14:25:60\n",
       "315757    2015-05-01 12:60:09\n",
       "315789    2015-03-04 00:60:36\n",
       "315851    2015-04-17 09:60:59\n",
       "315875    2015-04-24 17:60:53\n",
       "315906    2015-05-16 01:60:49\n",
       "315915    2015-04-23 11:15:60\n",
       "316019    2015-03-21 11:48:60\n",
       "316027                    NaN\n",
       "316035    2015-05-10 14:60:51\n",
       "316114    2015-04-17 07:60:49\n",
       "316138    2015-04-13 18:60:11\n",
       "316172    2015-04-23 18:01:60\n",
       "316275    2015-05-10 13:46:60\n",
       "316337    2015-04-05 03:20:60\n",
       "316370    2015-05-16 09:17:60\n",
       "316413    2015-03-28 17:44:60\n",
       "316438    2015-05-11 12:46:60\n",
       "316465    2015-04-13 11:52:60\n",
       "316510    2015-04-10 09:40:60\n",
       "316517                    NaN\n",
       "316522    2015-04-12 17:53:60\n",
       "316525    2015-05-11 12:60:53\n",
       "316558    2015-04-10 11:60:29\n",
       "316564    2015-03-08 19:06:60\n",
       "316566    2015-03-21 16:27:60\n",
       "316606    2015-05-29 14:34:60\n",
       "316709    2015-03-20 18:33:60\n",
       "316756    2015-03-06 22:33:60\n",
       "316771    2015-05-23 17:60:03\n",
       "Name: timestamp, Length: 10895, dtype: object"
      ]
     },
     "execution_count": 7,
     "metadata": {},
     "output_type": "execute_result"
    }
   ],
   "source": [
    "test_results['timestamp'].loc[df_timestamp.isnull()]"
   ]
  },
  {
   "cell_type": "markdown",
   "metadata": {},
   "source": [
    "### source\n",
    "Converting variable 'source' to catagorical datatype. "
   ]
  },
  {
   "cell_type": "code",
   "execution_count": 8,
   "metadata": {},
   "outputs": [
    {
     "data": {
      "text/plain": [
       "direct_traffic     60307\n",
       "ads-google         59319\n",
       "ads_facebook       53337\n",
       "ads_other          29849\n",
       "seo-google         23160\n",
       "ads-bing           22851\n",
       "seo_facebook       21185\n",
       "friend_referral    20672\n",
       "seo-other           9250\n",
       "ads-yahoo           7573\n",
       "seo-yahoo           6836\n",
       "seo-bing            2149\n",
       "Name: source, dtype: int64"
      ]
     },
     "execution_count": 8,
     "metadata": {},
     "output_type": "execute_result"
    }
   ],
   "source": [
    "test_results[\"source\"] = test_results[\"source\"].astype('category')\n",
    "test_results[\"source\"].value_counts()"
   ]
  },
  {
   "cell_type": "markdown",
   "metadata": {},
   "source": [
    "### \"device\""
   ]
  },
  {
   "cell_type": "code",
   "execution_count": 9,
   "metadata": {},
   "outputs": [
    {
     "data": {
      "text/plain": [
       "mobile    186471\n",
       "web       130329\n",
       "Name: device, dtype: int64"
      ]
     },
     "execution_count": 9,
     "metadata": {},
     "output_type": "execute_result"
    }
   ],
   "source": [
    "test_results[\"device\"] = test_results[\"device\"].astype('category')\n",
    "test_results[\"device\"].value_counts()"
   ]
  },
  {
   "cell_type": "markdown",
   "metadata": {},
   "source": [
    "### \"Operative_system\"\n",
    "Operative system is acutally related to device variable. For mobile device, OS has android and iOS. For web device, OS has windows, macOS and linux (linux doesn't have any representation here). The Operative system will be corrected according to the device type and imputed with the median operative_system under the device catagory."
   ]
  },
  {
   "cell_type": "code",
   "execution_count": 10,
   "metadata": {},
   "outputs": [
    {
     "data": {
      "text/plain": [
       "windows    100878\n",
       "iOS         95352\n",
       "android     74856\n",
       "mac         25056\n",
       "i0S           113\n",
       "wnddows        98\n",
       "anroid         79\n",
       "apple          29\n",
       "Name: operative_system, dtype: int64"
      ]
     },
     "execution_count": 10,
     "metadata": {},
     "output_type": "execute_result"
    }
   ],
   "source": [
    "test_results[\"operative_system\"] = test_results[\"operative_system\"].astype('category')\n",
    "test_results[\"operative_system\"].value_counts()"
   ]
  },
  {
   "cell_type": "code",
   "execution_count": 11,
   "metadata": {},
   "outputs": [],
   "source": [
    "# correcting for obvious ones\n",
    "test_results[\"operative_system\"].loc[test_results[\"operative_system\"]=='wnddows']='windows'\n",
    "test_results[\"operative_system\"].loc[test_results[\"operative_system\"]=='i0S']='iOS'\n",
    "test_results[\"operative_system\"].loc[test_results[\"operative_system\"]=='anroid']='android'"
   ]
  },
  {
   "cell_type": "code",
   "execution_count": 12,
   "metadata": {},
   "outputs": [
    {
     "data": {
      "text/plain": [
       "windows    100976\n",
       "mac         25056\n",
       "apple          29\n",
       "wnddows         0\n",
       "iOS             0\n",
       "i0S             0\n",
       "anroid          0\n",
       "android         0\n",
       "Name: operative_system, dtype: int64"
      ]
     },
     "execution_count": 12,
     "metadata": {},
     "output_type": "execute_result"
    }
   ],
   "source": [
    "# check where 'apple' belongs to\n",
    "test_results['operative_system'].loc[test_results['device']=='web'].value_counts()"
   ]
  },
  {
   "cell_type": "code",
   "execution_count": 13,
   "metadata": {},
   "outputs": [],
   "source": [
    "test_results[\"operative_system\"].loc[test_results[\"operative_system\"]=='apple']='mac'"
   ]
  },
  {
   "cell_type": "code",
   "execution_count": 14,
   "metadata": {},
   "outputs": [
    {
     "data": {
      "text/plain": [
       "windows    100976\n",
       "iOS         95465\n",
       "android     74935\n",
       "mac         25085\n",
       "wnddows         0\n",
       "i0S             0\n",
       "apple           0\n",
       "anroid          0\n",
       "Name: operative_system, dtype: int64"
      ]
     },
     "execution_count": 14,
     "metadata": {},
     "output_type": "execute_result"
    }
   ],
   "source": [
    "test_results[\"operative_system\"] = test_results[\"operative_system\"].astype('category')\n",
    "test_results[\"operative_system\"].value_counts()"
   ]
  },
  {
   "cell_type": "code",
   "execution_count": 15,
   "metadata": {
    "scrolled": true
   },
   "outputs": [],
   "source": [
    "# Impute the missing device type with the median of device type, 'web'->'windows', 'mobile' -> 'iOS'\n",
    "test_results['operative_system'].loc[(test_results[\"operative_system\"].isnull()) & (test_results[\"device\"]=='web')] = 'windows'\n",
    "test_results['operative_system'].loc[(test_results[\"operative_system\"].isnull()) & (test_results[\"device\"]=='mobile')] = 'iOS'\n"
   ]
  },
  {
   "cell_type": "markdown",
   "metadata": {},
   "source": [
    "### 'test' and 'price'\n",
    "The description suggest that when test = 1, users were shown the price of 59, while test = 0, users were shown the price of 39. We will double check this if there's any mis-label. <br> <br>\n",
    "Rows with nconsistent labeling between 'test' and 'price' will be dropped because it's not clear which variable is reliable"
   ]
  },
  {
   "cell_type": "code",
   "execution_count": 16,
   "metadata": {},
   "outputs": [
    {
     "data": {
      "text/plain": [
       "0    202727\n",
       "1    114073\n",
       "Name: test, dtype: int64"
      ]
     },
     "execution_count": 16,
     "metadata": {},
     "output_type": "execute_result"
    }
   ],
   "source": [
    "test_results['test'].value_counts()"
   ]
  },
  {
   "cell_type": "code",
   "execution_count": 17,
   "metadata": {},
   "outputs": [
    {
     "data": {
      "text/plain": [
       "Int64Index([  8238,   8369,  11555,  12848,  14630,  15020,  15724,  17252,\n",
       "             20623,  22979,\n",
       "            ...\n",
       "            305508, 307444, 308723, 310426, 312287, 312725, 313735, 314275,\n",
       "            315529, 316663],\n",
       "           dtype='int64', length=209)"
      ]
     },
     "execution_count": 17,
     "metadata": {},
     "output_type": "execute_result"
    }
   ],
   "source": [
    "test_results.index[(test_results[\"test\"]==0) &(test_results[\"price\"]==59)]"
   ]
  },
  {
   "cell_type": "code",
   "execution_count": 18,
   "metadata": {
    "scrolled": true
   },
   "outputs": [],
   "source": [
    "test_results = test_results.drop(test_results.index[(test_results[\"test\"]==0) &(test_results[\"price\"]==59)]);\n",
    "test_results =test_results.drop(test_results.index[(test_results[\"test\"]==1) &(test_results[\"price\"]==39)]);"
   ]
  },
  {
   "cell_type": "code",
   "execution_count": 19,
   "metadata": {},
   "outputs": [
    {
     "data": {
      "text/plain": [
       "316437"
      ]
     },
     "execution_count": 19,
     "metadata": {},
     "output_type": "execute_result"
    }
   ],
   "source": [
    "len(test_results)"
   ]
  },
  {
   "cell_type": "markdown",
   "metadata": {},
   "source": [
    "### drop price that are not 39 or 59"
   ]
  },
  {
   "cell_type": "code",
   "execution_count": 20,
   "metadata": {},
   "outputs": [],
   "source": [
    "test_results = test_results.drop(test_results.index[(test_results['price']!=39) & (test_results['price']!=59)])"
   ]
  },
  {
   "cell_type": "code",
   "execution_count": 21,
   "metadata": {},
   "outputs": [
    {
     "data": {
      "text/plain": [
       "313363"
      ]
     },
     "execution_count": 21,
     "metadata": {},
     "output_type": "execute_result"
    }
   ],
   "source": [
    "len(test_results)"
   ]
  },
  {
   "cell_type": "code",
   "execution_count": 22,
   "metadata": {},
   "outputs": [
    {
     "data": {
      "text/plain": [
       "<matplotlib.axes._subplots.AxesSubplot at 0x7f5400ca4ba8>"
      ]
     },
     "execution_count": 22,
     "metadata": {},
     "output_type": "execute_result"
    },
    {
     "data": {
      "image/png": "[encoded data removed]",
      "text/plain": [
       "<matplotlib.figure.Figure at 0x7f5400f85128>"
      ]
     },
     "metadata": {},
     "output_type": "display_data"
    }
   ],
   "source": [
    "msno.matrix(test_results)"
   ]
  },
  {
   "cell_type": "markdown",
   "metadata": {},
   "source": [
    "## 3. Feature engineering"
   ]
  },
  {
   "cell_type": "markdown",
   "metadata": {},
   "source": [
    "### New feature: 'Profit'\n",
    "This variable is the profit that made from user "
   ]
  },
  {
   "cell_type": "code",
   "execution_count": 23,
   "metadata": {},
   "outputs": [],
   "source": [
    "test_results['profit']= test_results['price'].astype(int)*test_results['converted'].astype(int)"
   ]
  },
  {
   "cell_type": "markdown",
   "metadata": {},
   "source": [
    "## 4. Should the company sell its software at 39 or 59?\n"
   ]
  },
  {
   "cell_type": "markdown",
   "metadata": {},
   "source": [
    "### Conversion Rate\n",
    "Statistical t-test is performed to evaluate the conversion rate for two prices."
   ]
  },
  {
   "cell_type": "code",
   "execution_count": 24,
   "metadata": {},
   "outputs": [
    {
     "name": "stdout",
     "output_type": "stream",
     "text": [
      "Conversion Rate with $39: 0.0199\n"
     ]
    }
   ],
   "source": [
    "# conversion rate for lower price\n",
    "p0 = sum((test_results[\"test\"]==0) & (test_results[\"converted\"]==1))/sum(test_results[\"test\"]==0)\n",
    "print('Conversion Rate with $39: '+ str(round(p0,4)))"
   ]
  },
  {
   "cell_type": "code",
   "execution_count": 25,
   "metadata": {},
   "outputs": [
    {
     "name": "stdout",
     "output_type": "stream",
     "text": [
      "Conversion Rate with $59: 0.0156\n"
     ]
    }
   ],
   "source": [
    "# conversion rate for higher price\n",
    "p1 = sum((test_results[\"test\"]==1) & (test_results[\"converted\"]==1))/sum(test_results[\"test\"]==1)\n",
    "print('Conversion Rate with $59: '+ str(round(p1,4)))"
   ]
  },
  {
   "cell_type": "code",
   "execution_count": 26,
   "metadata": {},
   "outputs": [
    {
     "name": "stdout",
     "output_type": "stream",
     "text": [
      "t-test result:  t = 8.97607  p = 2.82418e-19\n"
     ]
    }
   ],
   "source": [
    "t, p = ttest_ind(test_results['converted'].loc[test_results[\"test\"]==0], test_results['converted'].loc[test_results[\"test\"]==1], equal_var=False)\n",
    "print(\"t-test result:  t = %g  p = %g\" % (t, p))\n"
   ]
  },
  {
   "cell_type": "markdown",
   "metadata": {},
   "source": [
    " The results of t-test shows that the p-value is very small. This result can be interpreted as a significant change in the conversion rate (buying rate) due to the change in price. \n"
   ]
  },
  {
   "cell_type": "markdown",
   "metadata": {},
   "source": [
    "### Revenue\n",
    "Decrease in conversion rate is expected when the price is raised. However, a more important aspect of the study is to evaluate the impact on revenue. "
   ]
  },
  {
   "cell_type": "code",
   "execution_count": 27,
   "metadata": {},
   "outputs": [
    {
     "name": "stdout",
     "output_type": "stream",
     "text": [
      "Expected income per user visit for $39 = 0.776\n"
     ]
    }
   ],
   "source": [
    "E_p0 = sum(test_results['profit'].loc[test_results[\"test\"]==0])/sum(test_results[\"test\"]==0)\n",
    "print('Expected income per user visit for $39 = ' + str(round(E_p0,3)))"
   ]
  },
  {
   "cell_type": "code",
   "execution_count": 28,
   "metadata": {},
   "outputs": [
    {
     "name": "stdout",
     "output_type": "stream",
     "text": [
      "Expected income per user visit for $59 = 0.918\n"
     ]
    }
   ],
   "source": [
    "E_p1 = sum(test_results['profit'].loc[test_results[\"test\"]==1])/sum(test_results[\"test\"]==1)\n",
    "print('Expected income per user visit for $59 = ' + str(round(E_p1,3)))"
   ]
  },
  {
   "cell_type": "code",
   "execution_count": 29,
   "metadata": {},
   "outputs": [
    {
     "name": "stdout",
     "output_type": "stream",
     "text": [
      "t-test result:  t = 62.4878  p = 0\n"
     ]
    }
   ],
   "source": [
    "t, p = ttest_ind(test_results['profit'].loc[test_results[\"test\"]==0], test_results['converted'].loc[test_results[\"test\"]==1], equal_var=False)\n",
    "print(\"t-test result:  t = %g  p = %g\" % (t, p))\n"
   ]
  },
  {
   "cell_type": "markdown",
   "metadata": {},
   "source": [
    "# Summary\n",
    "### Even though the conversion rate has decreased with raised price, the company actually made more money from users with raised price. Therefore, the company should raise the price to 59 dollars according to this test."
   ]
  },
  {
   "cell_type": "markdown",
   "metadata": {},
   "source": [
    "## 5. Insights of user behavior -- incomplete"
   ]
  },
  {
   "cell_type": "code",
   "execution_count": 30,
   "metadata": {
    "scrolled": true
   },
   "outputs": [
    {
     "ename": "NameError",
     "evalue": "name 'j' is not defined",
     "output_type": "error",
     "traceback": [
      "\u001b[0;31m---------------------------------------------------------------------------\u001b[0m",
      "\u001b[0;31mNameError\u001b[0m                                 Traceback (most recent call last)",
      "\u001b[0;32m<ipython-input-30-20d558ee7b98>\u001b[0m in \u001b[0;36m<module>\u001b[0;34m()\u001b[0m\n\u001b[0;32m----> 1\u001b[0;31m \u001b[0mplt\u001b[0m\u001b[0;34m.\u001b[0m\u001b[0mhist\u001b[0m\u001b[0;34m(\u001b[0m\u001b[0mtest_results\u001b[0m\u001b[0;34m.\u001b[0m\u001b[0mloc\u001b[0m\u001b[0;34m[\u001b[0m\u001b[0;34m(\u001b[0m\u001b[0mtest_results\u001b[0m\u001b[0;34m[\u001b[0m\u001b[0;34m'converted'\u001b[0m\u001b[0;34m]\u001b[0m\u001b[0;34m==\u001b[0m\u001b[0;36m0\u001b[0m\u001b[0;34m)\u001b[0m\u001b[0;34m&\u001b[0m\u001b[0;34m(\u001b[0m\u001b[0mtest_results\u001b[0m\u001b[0;34m[\u001b[0m\u001b[0;34m'test'\u001b[0m\u001b[0;34m]\u001b[0m\u001b[0;34m==\u001b[0m\u001b[0mj\u001b[0m\u001b[0;34m)\u001b[0m\u001b[0;34m]\u001b[0m\u001b[0;34m.\u001b[0m\u001b[0miloc\u001b[0m\u001b[0;34m[\u001b[0m\u001b[0;34m:\u001b[0m\u001b[0;34m,\u001b[0m\u001b[0;36m4\u001b[0m\u001b[0;34m]\u001b[0m\u001b[0;34m)\u001b[0m\u001b[0;34m\u001b[0m\u001b[0m\n\u001b[0m\u001b[1;32m      2\u001b[0m \u001b[0mplt\u001b[0m\u001b[0;34m.\u001b[0m\u001b[0mshow\u001b[0m\u001b[0;34m(\u001b[0m\u001b[0;34m)\u001b[0m\u001b[0;34m\u001b[0m\u001b[0m\n",
      "\u001b[0;31mNameError\u001b[0m: name 'j' is not defined"
     ]
    }
   ],
   "source": [
    "plt.hist(test_results.loc[(test_results['converted']==0)&(test_results['test']==j)].iloc[:,4])\n",
    "plt.show()"
   ]
  },
  {
   "cell_type": "code",
   "execution_count": null,
   "metadata": {},
   "outputs": [],
   "source": [
    "fig, ax = plt.subplots(2,2, figsize = (15,15))\n",
    "for i in range(2):\n",
    "    for j in range(2):\n",
    "        ax[i,j].hist(test_results.loc[(test_results['converted']==0)&(test_results['test']==j)].iloc[:,5], alpha = 0.5)\n",
    "        plt.hold(True)\n",
    "        ax[i,j].hist(test_results.loc[(test_results['converted']==1)&(test_results['test']==j)].iloc[:,5], alpha = 0.5)\n",
    "        ax[i,j].title.set_text(test_results.keys()[5])\n",
    "plt.show()"
   ]
  },
  {
   "cell_type": "code",
   "execution_count": 32,
   "metadata": {},
   "outputs": [
    {
     "data": {
      "text/html": [
       "<div>\n",
       "<style scoped>\n",
       "    .dataframe tbody tr th:only-of-type {\n",
       "        vertical-align: middle;\n",
       "    }\n",
       "\n",
       "    .dataframe tbody tr th {\n",
       "        vertical-align: top;\n",
       "    }\n",
       "\n",
       "    .dataframe thead th {\n",
       "        text-align: right;\n",
       "    }\n",
       "</style>\n",
       "<table border=\"1\" class=\"dataframe\">\n",
       "  <thead>\n",
       "    <tr style=\"text-align: right;\">\n",
       "      <th></th>\n",
       "      <th>Unnamed: 0</th>\n",
       "      <th>user_id</th>\n",
       "      <th>timestamp</th>\n",
       "      <th>source</th>\n",
       "      <th>device</th>\n",
       "      <th>operative_system</th>\n",
       "      <th>test</th>\n",
       "      <th>price</th>\n",
       "      <th>converted</th>\n",
       "      <th>profit</th>\n",
       "    </tr>\n",
       "  </thead>\n",
       "  <tbody>\n",
       "    <tr>\n",
       "      <th>0</th>\n",
       "      <td>0</td>\n",
       "      <td>604839</td>\n",
       "      <td>2015-05-08 03:38:34</td>\n",
       "      <td>ads_facebook</td>\n",
       "      <td>mobile</td>\n",
       "      <td>iOS</td>\n",
       "      <td>0</td>\n",
       "      <td>39.0</td>\n",
       "      <td>0</td>\n",
       "      <td>0</td>\n",
       "    </tr>\n",
       "    <tr>\n",
       "      <th>1</th>\n",
       "      <td>1</td>\n",
       "      <td>624057</td>\n",
       "      <td>2015-05-10 21:08:46</td>\n",
       "      <td>seo-google</td>\n",
       "      <td>mobile</td>\n",
       "      <td>android</td>\n",
       "      <td>0</td>\n",
       "      <td>39.0</td>\n",
       "      <td>0</td>\n",
       "      <td>0</td>\n",
       "    </tr>\n",
       "    <tr>\n",
       "      <th>2</th>\n",
       "      <td>2</td>\n",
       "      <td>317970</td>\n",
       "      <td>2015-04-04 15:01:23</td>\n",
       "      <td>ads-bing</td>\n",
       "      <td>mobile</td>\n",
       "      <td>android</td>\n",
       "      <td>0</td>\n",
       "      <td>39.0</td>\n",
       "      <td>0</td>\n",
       "      <td>0</td>\n",
       "    </tr>\n",
       "    <tr>\n",
       "      <th>3</th>\n",
       "      <td>3</td>\n",
       "      <td>685636</td>\n",
       "      <td>2015-05-07 07:26:01</td>\n",
       "      <td>direct_traffic</td>\n",
       "      <td>mobile</td>\n",
       "      <td>iOS</td>\n",
       "      <td>1</td>\n",
       "      <td>59.0</td>\n",
       "      <td>0</td>\n",
       "      <td>0</td>\n",
       "    </tr>\n",
       "    <tr>\n",
       "      <th>4</th>\n",
       "      <td>4</td>\n",
       "      <td>820854</td>\n",
       "      <td>2015-05-24 11:04:40</td>\n",
       "      <td>ads_facebook</td>\n",
       "      <td>web</td>\n",
       "      <td>mac</td>\n",
       "      <td>0</td>\n",
       "      <td>39.0</td>\n",
       "      <td>0</td>\n",
       "      <td>0</td>\n",
       "    </tr>\n",
       "  </tbody>\n",
       "</table>\n",
       "</div>"
      ],
      "text/plain": [
       "   Unnamed: 0  user_id            timestamp          source  device  \\\n",
       "0           0   604839  2015-05-08 03:38:34    ads_facebook  mobile   \n",
       "1           1   624057  2015-05-10 21:08:46      seo-google  mobile   \n",
       "2           2   317970  2015-04-04 15:01:23        ads-bing  mobile   \n",
       "3           3   685636  2015-05-07 07:26:01  direct_traffic  mobile   \n",
       "4           4   820854  2015-05-24 11:04:40    ads_facebook     web   \n",
       "\n",
       "  operative_system  test  price  converted  profit  \n",
       "0              iOS     0   39.0          0       0  \n",
       "1          android     0   39.0          0       0  \n",
       "2          android     0   39.0          0       0  \n",
       "3              iOS     1   59.0          0       0  \n",
       "4              mac     0   39.0          0       0  "
      ]
     },
     "execution_count": 32,
     "metadata": {},
     "output_type": "execute_result"
    }
   ],
   "source": [
    "test_results.head()"
   ]
  },
  {
   "cell_type": "code",
   "execution_count": 43,
   "metadata": {},
   "outputs": [],
   "source": [
    "a = test_results['device'].value_counts()"
   ]
  },
  {
   "cell_type": "code",
   "execution_count": 47,
   "metadata": {},
   "outputs": [
    {
     "data": {
      "text/plain": [
       "'mobile'"
      ]
     },
     "execution_count": 47,
     "metadata": {},
     "output_type": "execute_result"
    }
   ],
   "source": [
    "a.keys()[0]"
   ]
  },
  {
   "cell_type": "code",
   "execution_count": 52,
   "metadata": {},
   "outputs": [
    {
     "data": {
      "text/plain": [
       "[CategoricalIndex(['mobile', 'web'], categories=['mobile', 'web'], ordered=False, dtype='category'),\n",
       " Int64Index([0, 1], dtype='int64')]"
      ]
     },
     "execution_count": 52,
     "metadata": {},
     "output_type": "execute_result"
    }
   ],
   "source": [
    "[test_results['device'].value_counts().keys(), test_results['test'].value_counts().keys()][:]"
   ]
  },
  {
   "cell_type": "code",
   "execution_count": 58,
   "metadata": {},
   "outputs": [],
   "source": [
    "a =test_results.groupby(['device','test'])['converted'].mean()"
   ]
  },
  {
   "cell_type": "code",
   "execution_count": 67,
   "metadata": {},
   "outputs": [
    {
     "data": {
      "text/plain": [
       "device  test\n",
       "mobile  0       0.019826\n",
       "        1       0.016190\n",
       "web     0       0.019974\n",
       "        1       0.014681\n",
       "Name: converted, dtype: float64"
      ]
     },
     "execution_count": 67,
     "metadata": {},
     "output_type": "execute_result"
    }
   ],
   "source": [
    "a"
   ]
  },
  {
   "cell_type": "code",
   "execution_count": 77,
   "metadata": {
    "scrolled": true
   },
   "outputs": [
    {
     "data": {
      "text/html": [
       "<div>\n",
       "<style scoped>\n",
       "    .dataframe tbody tr th:only-of-type {\n",
       "        vertical-align: middle;\n",
       "    }\n",
       "\n",
       "    .dataframe tbody tr th {\n",
       "        vertical-align: top;\n",
       "    }\n",
       "\n",
       "    .dataframe thead th {\n",
       "        text-align: right;\n",
       "    }\n",
       "</style>\n",
       "<table border=\"1\" class=\"dataframe\">\n",
       "  <thead>\n",
       "    <tr style=\"text-align: right;\">\n",
       "      <th></th>\n",
       "      <th>Unnamed: 0</th>\n",
       "      <th>user_id</th>\n",
       "      <th>timestamp</th>\n",
       "      <th>source</th>\n",
       "      <th>device</th>\n",
       "      <th>operative_system</th>\n",
       "      <th>test</th>\n",
       "      <th>price</th>\n",
       "      <th>converted</th>\n",
       "      <th>profit</th>\n",
       "    </tr>\n",
       "  </thead>\n",
       "  <tbody>\n",
       "    <tr>\n",
       "      <th>0</th>\n",
       "      <td>0</td>\n",
       "      <td>604839</td>\n",
       "      <td>2015-05-08 03:38:34</td>\n",
       "      <td>ads_facebook</td>\n",
       "      <td>mobile</td>\n",
       "      <td>iOS</td>\n",
       "      <td>0</td>\n",
       "      <td>39.0</td>\n",
       "      <td>0</td>\n",
       "      <td>0</td>\n",
       "    </tr>\n",
       "    <tr>\n",
       "      <th>1</th>\n",
       "      <td>1</td>\n",
       "      <td>624057</td>\n",
       "      <td>2015-05-10 21:08:46</td>\n",
       "      <td>seo-google</td>\n",
       "      <td>mobile</td>\n",
       "      <td>android</td>\n",
       "      <td>0</td>\n",
       "      <td>39.0</td>\n",
       "      <td>0</td>\n",
       "      <td>0</td>\n",
       "    </tr>\n",
       "    <tr>\n",
       "      <th>2</th>\n",
       "      <td>2</td>\n",
       "      <td>317970</td>\n",
       "      <td>2015-04-04 15:01:23</td>\n",
       "      <td>ads-bing</td>\n",
       "      <td>mobile</td>\n",
       "      <td>android</td>\n",
       "      <td>0</td>\n",
       "      <td>39.0</td>\n",
       "      <td>0</td>\n",
       "      <td>0</td>\n",
       "    </tr>\n",
       "    <tr>\n",
       "      <th>4</th>\n",
       "      <td>4</td>\n",
       "      <td>820854</td>\n",
       "      <td>2015-05-24 11:04:40</td>\n",
       "      <td>ads_facebook</td>\n",
       "      <td>web</td>\n",
       "      <td>mac</td>\n",
       "      <td>0</td>\n",
       "      <td>39.0</td>\n",
       "      <td>0</td>\n",
       "      <td>0</td>\n",
       "    </tr>\n",
       "    <tr>\n",
       "      <th>5</th>\n",
       "      <td>5</td>\n",
       "      <td>169971</td>\n",
       "      <td>2015-04-13 12:07:08</td>\n",
       "      <td>ads-google</td>\n",
       "      <td>mobile</td>\n",
       "      <td>iOS</td>\n",
       "      <td>0</td>\n",
       "      <td>39.0</td>\n",
       "      <td>0</td>\n",
       "      <td>0</td>\n",
       "    </tr>\n",
       "    <tr>\n",
       "      <th>6</th>\n",
       "      <td>6</td>\n",
       "      <td>600150</td>\n",
       "      <td>2015-03-04 14:45:44</td>\n",
       "      <td>seo_facebook</td>\n",
       "      <td>web</td>\n",
       "      <td>windows</td>\n",
       "      <td>0</td>\n",
       "      <td>39.0</td>\n",
       "      <td>0</td>\n",
       "      <td>0</td>\n",
       "    </tr>\n",
       "    <tr>\n",
       "      <th>10</th>\n",
       "      <td>10</td>\n",
       "      <td>590182</td>\n",
       "      <td>2015-04-17 13:30:04</td>\n",
       "      <td>ads-google</td>\n",
       "      <td>web</td>\n",
       "      <td>windows</td>\n",
       "      <td>0</td>\n",
       "      <td>39.0</td>\n",
       "      <td>0</td>\n",
       "      <td>0</td>\n",
       "    </tr>\n",
       "    <tr>\n",
       "      <th>11</th>\n",
       "      <td>11</td>\n",
       "      <td>606479</td>\n",
       "      <td>2015-05-15 12:36:46</td>\n",
       "      <td>direct_traffic</td>\n",
       "      <td>web</td>\n",
       "      <td>mac</td>\n",
       "      <td>0</td>\n",
       "      <td>39.0</td>\n",
       "      <td>0</td>\n",
       "      <td>0</td>\n",
       "    </tr>\n",
       "    <tr>\n",
       "      <th>12</th>\n",
       "      <td>12</td>\n",
       "      <td>425567</td>\n",
       "      <td>2015-04-24 10:09:04</td>\n",
       "      <td>ads_facebook</td>\n",
       "      <td>web</td>\n",
       "      <td>windows</td>\n",
       "      <td>0</td>\n",
       "      <td>39.0</td>\n",
       "      <td>0</td>\n",
       "      <td>0</td>\n",
       "    </tr>\n",
       "    <tr>\n",
       "      <th>13</th>\n",
       "      <td>13</td>\n",
       "      <td>460593</td>\n",
       "      <td>2015-03-21 09:43:51</td>\n",
       "      <td>friend_referral</td>\n",
       "      <td>mobile</td>\n",
       "      <td>iOS</td>\n",
       "      <td>0</td>\n",
       "      <td>39.0</td>\n",
       "      <td>1</td>\n",
       "      <td>39</td>\n",
       "    </tr>\n",
       "    <tr>\n",
       "      <th>14</th>\n",
       "      <td>14</td>\n",
       "      <td>708831</td>\n",
       "      <td>2015-05-29 08:19:24</td>\n",
       "      <td>ads-google</td>\n",
       "      <td>mobile</td>\n",
       "      <td>iOS</td>\n",
       "      <td>0</td>\n",
       "      <td>39.0</td>\n",
       "      <td>0</td>\n",
       "      <td>0</td>\n",
       "    </tr>\n",
       "    <tr>\n",
       "      <th>16</th>\n",
       "      <td>16</td>\n",
       "      <td>444108</td>\n",
       "      <td>2015-03-16 12:20:49</td>\n",
       "      <td>seo-google</td>\n",
       "      <td>web</td>\n",
       "      <td>mac</td>\n",
       "      <td>0</td>\n",
       "      <td>39.0</td>\n",
       "      <td>0</td>\n",
       "      <td>0</td>\n",
       "    </tr>\n",
       "    <tr>\n",
       "      <th>17</th>\n",
       "      <td>17</td>\n",
       "      <td>692331</td>\n",
       "      <td>2015-03-08 13:19:55</td>\n",
       "      <td>ads-google</td>\n",
       "      <td>mobile</td>\n",
       "      <td>iOS</td>\n",
       "      <td>0</td>\n",
       "      <td>39.0</td>\n",
       "      <td>0</td>\n",
       "      <td>0</td>\n",
       "    </tr>\n",
       "    <tr>\n",
       "      <th>19</th>\n",
       "      <td>19</td>\n",
       "      <td>817127</td>\n",
       "      <td>2015-03-04 15:52:29</td>\n",
       "      <td>ads_facebook</td>\n",
       "      <td>mobile</td>\n",
       "      <td>iOS</td>\n",
       "      <td>0</td>\n",
       "      <td>39.0</td>\n",
       "      <td>0</td>\n",
       "      <td>0</td>\n",
       "    </tr>\n",
       "    <tr>\n",
       "      <th>20</th>\n",
       "      <td>20</td>\n",
       "      <td>747762</td>\n",
       "      <td>2015-04-04 23:10:20</td>\n",
       "      <td>ads_facebook</td>\n",
       "      <td>mobile</td>\n",
       "      <td>iOS</td>\n",
       "      <td>0</td>\n",
       "      <td>39.0</td>\n",
       "      <td>0</td>\n",
       "      <td>0</td>\n",
       "    </tr>\n",
       "    <tr>\n",
       "      <th>21</th>\n",
       "      <td>21</td>\n",
       "      <td>899236</td>\n",
       "      <td>2015-05-03 02:31:06</td>\n",
       "      <td>seo_facebook</td>\n",
       "      <td>web</td>\n",
       "      <td>windows</td>\n",
       "      <td>0</td>\n",
       "      <td>39.0</td>\n",
       "      <td>0</td>\n",
       "      <td>0</td>\n",
       "    </tr>\n",
       "    <tr>\n",
       "      <th>22</th>\n",
       "      <td>22</td>\n",
       "      <td>672422</td>\n",
       "      <td>2015-05-31 10:29:32</td>\n",
       "      <td>ads_other</td>\n",
       "      <td>web</td>\n",
       "      <td>windows</td>\n",
       "      <td>0</td>\n",
       "      <td>39.0</td>\n",
       "      <td>0</td>\n",
       "      <td>0</td>\n",
       "    </tr>\n",
       "    <tr>\n",
       "      <th>23</th>\n",
       "      <td>23</td>\n",
       "      <td>110040</td>\n",
       "      <td>2015-05-16 02:31:27</td>\n",
       "      <td>ads-google</td>\n",
       "      <td>web</td>\n",
       "      <td>mac</td>\n",
       "      <td>0</td>\n",
       "      <td>39.0</td>\n",
       "      <td>0</td>\n",
       "      <td>0</td>\n",
       "    </tr>\n",
       "    <tr>\n",
       "      <th>26</th>\n",
       "      <td>26</td>\n",
       "      <td>700829</td>\n",
       "      <td>2015-04-25 15:13:26</td>\n",
       "      <td>ads_facebook</td>\n",
       "      <td>web</td>\n",
       "      <td>windows</td>\n",
       "      <td>0</td>\n",
       "      <td>39.0</td>\n",
       "      <td>0</td>\n",
       "      <td>0</td>\n",
       "    </tr>\n",
       "    <tr>\n",
       "      <th>30</th>\n",
       "      <td>30</td>\n",
       "      <td>921058</td>\n",
       "      <td>2015-05-23 06:47:55</td>\n",
       "      <td>direct_traffic</td>\n",
       "      <td>mobile</td>\n",
       "      <td>iOS</td>\n",
       "      <td>0</td>\n",
       "      <td>39.0</td>\n",
       "      <td>0</td>\n",
       "      <td>0</td>\n",
       "    </tr>\n",
       "    <tr>\n",
       "      <th>31</th>\n",
       "      <td>31</td>\n",
       "      <td>640347</td>\n",
       "      <td>2015-04-17 11:02:06</td>\n",
       "      <td>ads_other</td>\n",
       "      <td>mobile</td>\n",
       "      <td>iOS</td>\n",
       "      <td>0</td>\n",
       "      <td>39.0</td>\n",
       "      <td>0</td>\n",
       "      <td>0</td>\n",
       "    </tr>\n",
       "    <tr>\n",
       "      <th>32</th>\n",
       "      <td>32</td>\n",
       "      <td>314759</td>\n",
       "      <td>2015-05-01 05:18:29</td>\n",
       "      <td>ads_other</td>\n",
       "      <td>mobile</td>\n",
       "      <td>iOS</td>\n",
       "      <td>0</td>\n",
       "      <td>39.0</td>\n",
       "      <td>0</td>\n",
       "      <td>0</td>\n",
       "    </tr>\n",
       "    <tr>\n",
       "      <th>34</th>\n",
       "      <td>34</td>\n",
       "      <td>281123</td>\n",
       "      <td>2015-05-01 05:21:34</td>\n",
       "      <td>seo-yahoo</td>\n",
       "      <td>web</td>\n",
       "      <td>windows</td>\n",
       "      <td>0</td>\n",
       "      <td>39.0</td>\n",
       "      <td>0</td>\n",
       "      <td>0</td>\n",
       "    </tr>\n",
       "    <tr>\n",
       "      <th>37</th>\n",
       "      <td>37</td>\n",
       "      <td>295754</td>\n",
       "      <td>2015-03-20 10:07:06</td>\n",
       "      <td>direct_traffic</td>\n",
       "      <td>web</td>\n",
       "      <td>windows</td>\n",
       "      <td>0</td>\n",
       "      <td>39.0</td>\n",
       "      <td>0</td>\n",
       "      <td>0</td>\n",
       "    </tr>\n",
       "    <tr>\n",
       "      <th>39</th>\n",
       "      <td>39</td>\n",
       "      <td>584483</td>\n",
       "      <td>2015-04-02 09:16:09</td>\n",
       "      <td>ads_facebook</td>\n",
       "      <td>web</td>\n",
       "      <td>windows</td>\n",
       "      <td>0</td>\n",
       "      <td>39.0</td>\n",
       "      <td>0</td>\n",
       "      <td>0</td>\n",
       "    </tr>\n",
       "    <tr>\n",
       "      <th>40</th>\n",
       "      <td>40</td>\n",
       "      <td>499049</td>\n",
       "      <td>2015-03-31 16:15:26</td>\n",
       "      <td>direct_traffic</td>\n",
       "      <td>mobile</td>\n",
       "      <td>android</td>\n",
       "      <td>0</td>\n",
       "      <td>39.0</td>\n",
       "      <td>0</td>\n",
       "      <td>0</td>\n",
       "    </tr>\n",
       "    <tr>\n",
       "      <th>43</th>\n",
       "      <td>43</td>\n",
       "      <td>653601</td>\n",
       "      <td>2015-04-05 10:49:50</td>\n",
       "      <td>friend_referral</td>\n",
       "      <td>mobile</td>\n",
       "      <td>iOS</td>\n",
       "      <td>0</td>\n",
       "      <td>39.0</td>\n",
       "      <td>0</td>\n",
       "      <td>0</td>\n",
       "    </tr>\n",
       "    <tr>\n",
       "      <th>44</th>\n",
       "      <td>44</td>\n",
       "      <td>767218</td>\n",
       "      <td>2015-04-15 09:56:52</td>\n",
       "      <td>ads_other</td>\n",
       "      <td>mobile</td>\n",
       "      <td>android</td>\n",
       "      <td>0</td>\n",
       "      <td>39.0</td>\n",
       "      <td>0</td>\n",
       "      <td>0</td>\n",
       "    </tr>\n",
       "    <tr>\n",
       "      <th>48</th>\n",
       "      <td>48</td>\n",
       "      <td>196245</td>\n",
       "      <td>2015-03-07 08:11:46</td>\n",
       "      <td>friend_referral</td>\n",
       "      <td>mobile</td>\n",
       "      <td>iOS</td>\n",
       "      <td>0</td>\n",
       "      <td>39.0</td>\n",
       "      <td>0</td>\n",
       "      <td>0</td>\n",
       "    </tr>\n",
       "    <tr>\n",
       "      <th>49</th>\n",
       "      <td>49</td>\n",
       "      <td>317755</td>\n",
       "      <td>2015-04-04 07:03:46</td>\n",
       "      <td>direct_traffic</td>\n",
       "      <td>web</td>\n",
       "      <td>windows</td>\n",
       "      <td>0</td>\n",
       "      <td>39.0</td>\n",
       "      <td>0</td>\n",
       "      <td>0</td>\n",
       "    </tr>\n",
       "    <tr>\n",
       "      <th>...</th>\n",
       "      <td>...</td>\n",
       "      <td>...</td>\n",
       "      <td>...</td>\n",
       "      <td>...</td>\n",
       "      <td>...</td>\n",
       "      <td>...</td>\n",
       "      <td>...</td>\n",
       "      <td>...</td>\n",
       "      <td>...</td>\n",
       "      <td>...</td>\n",
       "    </tr>\n",
       "    <tr>\n",
       "      <th>316759</th>\n",
       "      <td>316759</td>\n",
       "      <td>386471</td>\n",
       "      <td>2015-04-28 12:26:55</td>\n",
       "      <td>seo-google</td>\n",
       "      <td>web</td>\n",
       "      <td>windows</td>\n",
       "      <td>0</td>\n",
       "      <td>39.0</td>\n",
       "      <td>0</td>\n",
       "      <td>0</td>\n",
       "    </tr>\n",
       "    <tr>\n",
       "      <th>316760</th>\n",
       "      <td>316760</td>\n",
       "      <td>135137</td>\n",
       "      <td>2015-04-06 12:36:28</td>\n",
       "      <td>ads_facebook</td>\n",
       "      <td>web</td>\n",
       "      <td>windows</td>\n",
       "      <td>0</td>\n",
       "      <td>39.0</td>\n",
       "      <td>0</td>\n",
       "      <td>0</td>\n",
       "    </tr>\n",
       "    <tr>\n",
       "      <th>316761</th>\n",
       "      <td>316761</td>\n",
       "      <td>379270</td>\n",
       "      <td>2015-03-13 12:43:12</td>\n",
       "      <td>direct_traffic</td>\n",
       "      <td>web</td>\n",
       "      <td>mac</td>\n",
       "      <td>0</td>\n",
       "      <td>39.0</td>\n",
       "      <td>0</td>\n",
       "      <td>0</td>\n",
       "    </tr>\n",
       "    <tr>\n",
       "      <th>316763</th>\n",
       "      <td>316763</td>\n",
       "      <td>622567</td>\n",
       "      <td>2015-04-09 21:54:09</td>\n",
       "      <td>direct_traffic</td>\n",
       "      <td>web</td>\n",
       "      <td>windows</td>\n",
       "      <td>0</td>\n",
       "      <td>39.0</td>\n",
       "      <td>0</td>\n",
       "      <td>0</td>\n",
       "    </tr>\n",
       "    <tr>\n",
       "      <th>316764</th>\n",
       "      <td>316764</td>\n",
       "      <td>449278</td>\n",
       "      <td>2015-04-23 10:22:21</td>\n",
       "      <td>direct_traffic</td>\n",
       "      <td>mobile</td>\n",
       "      <td>iOS</td>\n",
       "      <td>0</td>\n",
       "      <td>39.0</td>\n",
       "      <td>0</td>\n",
       "      <td>0</td>\n",
       "    </tr>\n",
       "    <tr>\n",
       "      <th>316766</th>\n",
       "      <td>316766</td>\n",
       "      <td>344683</td>\n",
       "      <td>2015-04-18 16:55:53</td>\n",
       "      <td>direct_traffic</td>\n",
       "      <td>web</td>\n",
       "      <td>windows</td>\n",
       "      <td>0</td>\n",
       "      <td>39.0</td>\n",
       "      <td>0</td>\n",
       "      <td>0</td>\n",
       "    </tr>\n",
       "    <tr>\n",
       "      <th>316767</th>\n",
       "      <td>316767</td>\n",
       "      <td>858083</td>\n",
       "      <td>2015-05-22 08:29:46</td>\n",
       "      <td>friend_referral</td>\n",
       "      <td>mobile</td>\n",
       "      <td>android</td>\n",
       "      <td>0</td>\n",
       "      <td>39.0</td>\n",
       "      <td>0</td>\n",
       "      <td>0</td>\n",
       "    </tr>\n",
       "    <tr>\n",
       "      <th>316768</th>\n",
       "      <td>316768</td>\n",
       "      <td>361396</td>\n",
       "      <td>2015-05-16 11:26:07</td>\n",
       "      <td>ads_facebook</td>\n",
       "      <td>mobile</td>\n",
       "      <td>iOS</td>\n",
       "      <td>0</td>\n",
       "      <td>39.0</td>\n",
       "      <td>0</td>\n",
       "      <td>0</td>\n",
       "    </tr>\n",
       "    <tr>\n",
       "      <th>316769</th>\n",
       "      <td>316769</td>\n",
       "      <td>162757</td>\n",
       "      <td>2015-03-31 08:15:22</td>\n",
       "      <td>ads_facebook</td>\n",
       "      <td>mobile</td>\n",
       "      <td>iOS</td>\n",
       "      <td>0</td>\n",
       "      <td>39.0</td>\n",
       "      <td>0</td>\n",
       "      <td>0</td>\n",
       "    </tr>\n",
       "    <tr>\n",
       "      <th>316771</th>\n",
       "      <td>316771</td>\n",
       "      <td>738987</td>\n",
       "      <td>2015-05-23 17:60:03</td>\n",
       "      <td>direct_traffic</td>\n",
       "      <td>web</td>\n",
       "      <td>windows</td>\n",
       "      <td>0</td>\n",
       "      <td>39.0</td>\n",
       "      <td>0</td>\n",
       "      <td>0</td>\n",
       "    </tr>\n",
       "    <tr>\n",
       "      <th>316773</th>\n",
       "      <td>316773</td>\n",
       "      <td>444332</td>\n",
       "      <td>2015-05-19 11:58:20</td>\n",
       "      <td>ads-google</td>\n",
       "      <td>mobile</td>\n",
       "      <td>android</td>\n",
       "      <td>0</td>\n",
       "      <td>39.0</td>\n",
       "      <td>0</td>\n",
       "      <td>0</td>\n",
       "    </tr>\n",
       "    <tr>\n",
       "      <th>316774</th>\n",
       "      <td>316774</td>\n",
       "      <td>41735</td>\n",
       "      <td>2015-04-17 09:54:08</td>\n",
       "      <td>ads-bing</td>\n",
       "      <td>mobile</td>\n",
       "      <td>iOS</td>\n",
       "      <td>0</td>\n",
       "      <td>39.0</td>\n",
       "      <td>0</td>\n",
       "      <td>0</td>\n",
       "    </tr>\n",
       "    <tr>\n",
       "      <th>316779</th>\n",
       "      <td>316779</td>\n",
       "      <td>267582</td>\n",
       "      <td>2015-04-06 12:24:29</td>\n",
       "      <td>direct_traffic</td>\n",
       "      <td>web</td>\n",
       "      <td>windows</td>\n",
       "      <td>0</td>\n",
       "      <td>39.0</td>\n",
       "      <td>0</td>\n",
       "      <td>0</td>\n",
       "    </tr>\n",
       "    <tr>\n",
       "      <th>316780</th>\n",
       "      <td>316780</td>\n",
       "      <td>444264</td>\n",
       "      <td>2015-05-31 23:52:41</td>\n",
       "      <td>ads-google</td>\n",
       "      <td>mobile</td>\n",
       "      <td>iOS</td>\n",
       "      <td>0</td>\n",
       "      <td>39.0</td>\n",
       "      <td>0</td>\n",
       "      <td>0</td>\n",
       "    </tr>\n",
       "    <tr>\n",
       "      <th>316781</th>\n",
       "      <td>316781</td>\n",
       "      <td>116281</td>\n",
       "      <td>2015-04-12 05:32:14</td>\n",
       "      <td>seo-google</td>\n",
       "      <td>mobile</td>\n",
       "      <td>iOS</td>\n",
       "      <td>0</td>\n",
       "      <td>39.0</td>\n",
       "      <td>0</td>\n",
       "      <td>0</td>\n",
       "    </tr>\n",
       "    <tr>\n",
       "      <th>316783</th>\n",
       "      <td>316783</td>\n",
       "      <td>757423</td>\n",
       "      <td>2015-03-15 09:44:03</td>\n",
       "      <td>ads-google</td>\n",
       "      <td>mobile</td>\n",
       "      <td>iOS</td>\n",
       "      <td>0</td>\n",
       "      <td>39.0</td>\n",
       "      <td>0</td>\n",
       "      <td>0</td>\n",
       "    </tr>\n",
       "    <tr>\n",
       "      <th>316784</th>\n",
       "      <td>316784</td>\n",
       "      <td>344235</td>\n",
       "      <td>2015-03-06 09:29:23</td>\n",
       "      <td>ads_facebook</td>\n",
       "      <td>mobile</td>\n",
       "      <td>iOS</td>\n",
       "      <td>0</td>\n",
       "      <td>39.0</td>\n",
       "      <td>0</td>\n",
       "      <td>0</td>\n",
       "    </tr>\n",
       "    <tr>\n",
       "      <th>316785</th>\n",
       "      <td>316785</td>\n",
       "      <td>466887</td>\n",
       "      <td>2015-03-13 16:58:45</td>\n",
       "      <td>ads_facebook</td>\n",
       "      <td>mobile</td>\n",
       "      <td>iOS</td>\n",
       "      <td>0</td>\n",
       "      <td>39.0</td>\n",
       "      <td>0</td>\n",
       "      <td>0</td>\n",
       "    </tr>\n",
       "    <tr>\n",
       "      <th>316786</th>\n",
       "      <td>316786</td>\n",
       "      <td>300043</td>\n",
       "      <td>2015-03-07 11:24:16</td>\n",
       "      <td>ads-google</td>\n",
       "      <td>web</td>\n",
       "      <td>windows</td>\n",
       "      <td>0</td>\n",
       "      <td>39.0</td>\n",
       "      <td>0</td>\n",
       "      <td>0</td>\n",
       "    </tr>\n",
       "    <tr>\n",
       "      <th>316787</th>\n",
       "      <td>316787</td>\n",
       "      <td>654257</td>\n",
       "      <td>2015-03-21 22:02:44</td>\n",
       "      <td>friend_referral</td>\n",
       "      <td>mobile</td>\n",
       "      <td>iOS</td>\n",
       "      <td>0</td>\n",
       "      <td>39.0</td>\n",
       "      <td>0</td>\n",
       "      <td>0</td>\n",
       "    </tr>\n",
       "    <tr>\n",
       "      <th>316788</th>\n",
       "      <td>316788</td>\n",
       "      <td>590087</td>\n",
       "      <td>2015-03-13 11:30:09</td>\n",
       "      <td>ads_other</td>\n",
       "      <td>mobile</td>\n",
       "      <td>android</td>\n",
       "      <td>0</td>\n",
       "      <td>39.0</td>\n",
       "      <td>0</td>\n",
       "      <td>0</td>\n",
       "    </tr>\n",
       "    <tr>\n",
       "      <th>316789</th>\n",
       "      <td>316789</td>\n",
       "      <td>345704</td>\n",
       "      <td>2015-05-29 08:08:58</td>\n",
       "      <td>direct_traffic</td>\n",
       "      <td>mobile</td>\n",
       "      <td>iOS</td>\n",
       "      <td>0</td>\n",
       "      <td>39.0</td>\n",
       "      <td>0</td>\n",
       "      <td>0</td>\n",
       "    </tr>\n",
       "    <tr>\n",
       "      <th>316790</th>\n",
       "      <td>316790</td>\n",
       "      <td>108465</td>\n",
       "      <td>2015-03-29 20:25:55</td>\n",
       "      <td>ads-bing</td>\n",
       "      <td>web</td>\n",
       "      <td>windows</td>\n",
       "      <td>0</td>\n",
       "      <td>39.0</td>\n",
       "      <td>0</td>\n",
       "      <td>0</td>\n",
       "    </tr>\n",
       "    <tr>\n",
       "      <th>316791</th>\n",
       "      <td>316791</td>\n",
       "      <td>26514</td>\n",
       "      <td>2015-05-26 15:55:08</td>\n",
       "      <td>seo_facebook</td>\n",
       "      <td>web</td>\n",
       "      <td>windows</td>\n",
       "      <td>0</td>\n",
       "      <td>39.0</td>\n",
       "      <td>0</td>\n",
       "      <td>0</td>\n",
       "    </tr>\n",
       "    <tr>\n",
       "      <th>316792</th>\n",
       "      <td>316792</td>\n",
       "      <td>874512</td>\n",
       "      <td>2015-03-14 12:13:52</td>\n",
       "      <td>ads_facebook</td>\n",
       "      <td>web</td>\n",
       "      <td>windows</td>\n",
       "      <td>0</td>\n",
       "      <td>39.0</td>\n",
       "      <td>0</td>\n",
       "      <td>0</td>\n",
       "    </tr>\n",
       "    <tr>\n",
       "      <th>316793</th>\n",
       "      <td>316793</td>\n",
       "      <td>680578</td>\n",
       "      <td>2015-04-24 10:13:45</td>\n",
       "      <td>seo-yahoo</td>\n",
       "      <td>mobile</td>\n",
       "      <td>iOS</td>\n",
       "      <td>0</td>\n",
       "      <td>39.0</td>\n",
       "      <td>0</td>\n",
       "      <td>0</td>\n",
       "    </tr>\n",
       "    <tr>\n",
       "      <th>316795</th>\n",
       "      <td>316795</td>\n",
       "      <td>17427</td>\n",
       "      <td>2015-04-11 09:29:15</td>\n",
       "      <td>ads_facebook</td>\n",
       "      <td>web</td>\n",
       "      <td>windows</td>\n",
       "      <td>0</td>\n",
       "      <td>39.0</td>\n",
       "      <td>0</td>\n",
       "      <td>0</td>\n",
       "    </tr>\n",
       "    <tr>\n",
       "      <th>316796</th>\n",
       "      <td>316796</td>\n",
       "      <td>687787</td>\n",
       "      <td>2015-03-16 23:31:55</td>\n",
       "      <td>direct_traffic</td>\n",
       "      <td>web</td>\n",
       "      <td>windows</td>\n",
       "      <td>0</td>\n",
       "      <td>39.0</td>\n",
       "      <td>0</td>\n",
       "      <td>0</td>\n",
       "    </tr>\n",
       "    <tr>\n",
       "      <th>316797</th>\n",
       "      <td>316797</td>\n",
       "      <td>618863</td>\n",
       "      <td>2015-04-11 01:35:19</td>\n",
       "      <td>ads-google</td>\n",
       "      <td>web</td>\n",
       "      <td>mac</td>\n",
       "      <td>0</td>\n",
       "      <td>39.0</td>\n",
       "      <td>0</td>\n",
       "      <td>0</td>\n",
       "    </tr>\n",
       "    <tr>\n",
       "      <th>316798</th>\n",
       "      <td>316798</td>\n",
       "      <td>154636</td>\n",
       "      <td>2015-05-14 05:46:42</td>\n",
       "      <td>friend_referral</td>\n",
       "      <td>mobile</td>\n",
       "      <td>android</td>\n",
       "      <td>0</td>\n",
       "      <td>39.0</td>\n",
       "      <td>0</td>\n",
       "      <td>0</td>\n",
       "    </tr>\n",
       "  </tbody>\n",
       "</table>\n",
       "<p>200593 rows × 10 columns</p>\n",
       "</div>"
      ],
      "text/plain": [
       "        Unnamed: 0  user_id            timestamp           source  device  \\\n",
       "0                0   604839  2015-05-08 03:38:34     ads_facebook  mobile   \n",
       "1                1   624057  2015-05-10 21:08:46       seo-google  mobile   \n",
       "2                2   317970  2015-04-04 15:01:23         ads-bing  mobile   \n",
       "4                4   820854  2015-05-24 11:04:40     ads_facebook     web   \n",
       "5                5   169971  2015-04-13 12:07:08       ads-google  mobile   \n",
       "6                6   600150  2015-03-04 14:45:44     seo_facebook     web   \n",
       "10              10   590182  2015-04-17 13:30:04       ads-google     web   \n",
       "11              11   606479  2015-05-15 12:36:46   direct_traffic     web   \n",
       "12              12   425567  2015-04-24 10:09:04     ads_facebook     web   \n",
       "13              13   460593  2015-03-21 09:43:51  friend_referral  mobile   \n",
       "14              14   708831  2015-05-29 08:19:24       ads-google  mobile   \n",
       "16              16   444108  2015-03-16 12:20:49       seo-google     web   \n",
       "17              17   692331  2015-03-08 13:19:55       ads-google  mobile   \n",
       "19              19   817127  2015-03-04 15:52:29     ads_facebook  mobile   \n",
       "20              20   747762  2015-04-04 23:10:20     ads_facebook  mobile   \n",
       "21              21   899236  2015-05-03 02:31:06     seo_facebook     web   \n",
       "22              22   672422  2015-05-31 10:29:32        ads_other     web   \n",
       "23              23   110040  2015-05-16 02:31:27       ads-google     web   \n",
       "26              26   700829  2015-04-25 15:13:26     ads_facebook     web   \n",
       "30              30   921058  2015-05-23 06:47:55   direct_traffic  mobile   \n",
       "31              31   640347  2015-04-17 11:02:06        ads_other  mobile   \n",
       "32              32   314759  2015-05-01 05:18:29        ads_other  mobile   \n",
       "34              34   281123  2015-05-01 05:21:34        seo-yahoo     web   \n",
       "37              37   295754  2015-03-20 10:07:06   direct_traffic     web   \n",
       "39              39   584483  2015-04-02 09:16:09     ads_facebook     web   \n",
       "40              40   499049  2015-03-31 16:15:26   direct_traffic  mobile   \n",
       "43              43   653601  2015-04-05 10:49:50  friend_referral  mobile   \n",
       "44              44   767218  2015-04-15 09:56:52        ads_other  mobile   \n",
       "48              48   196245  2015-03-07 08:11:46  friend_referral  mobile   \n",
       "49              49   317755  2015-04-04 07:03:46   direct_traffic     web   \n",
       "...            ...      ...                  ...              ...     ...   \n",
       "316759      316759   386471  2015-04-28 12:26:55       seo-google     web   \n",
       "316760      316760   135137  2015-04-06 12:36:28     ads_facebook     web   \n",
       "316761      316761   379270  2015-03-13 12:43:12   direct_traffic     web   \n",
       "316763      316763   622567  2015-04-09 21:54:09   direct_traffic     web   \n",
       "316764      316764   449278  2015-04-23 10:22:21   direct_traffic  mobile   \n",
       "316766      316766   344683  2015-04-18 16:55:53   direct_traffic     web   \n",
       "316767      316767   858083  2015-05-22 08:29:46  friend_referral  mobile   \n",
       "316768      316768   361396  2015-05-16 11:26:07     ads_facebook  mobile   \n",
       "316769      316769   162757  2015-03-31 08:15:22     ads_facebook  mobile   \n",
       "316771      316771   738987  2015-05-23 17:60:03   direct_traffic     web   \n",
       "316773      316773   444332  2015-05-19 11:58:20       ads-google  mobile   \n",
       "316774      316774    41735  2015-04-17 09:54:08         ads-bing  mobile   \n",
       "316779      316779   267582  2015-04-06 12:24:29   direct_traffic     web   \n",
       "316780      316780   444264  2015-05-31 23:52:41       ads-google  mobile   \n",
       "316781      316781   116281  2015-04-12 05:32:14       seo-google  mobile   \n",
       "316783      316783   757423  2015-03-15 09:44:03       ads-google  mobile   \n",
       "316784      316784   344235  2015-03-06 09:29:23     ads_facebook  mobile   \n",
       "316785      316785   466887  2015-03-13 16:58:45     ads_facebook  mobile   \n",
       "316786      316786   300043  2015-03-07 11:24:16       ads-google     web   \n",
       "316787      316787   654257  2015-03-21 22:02:44  friend_referral  mobile   \n",
       "316788      316788   590087  2015-03-13 11:30:09        ads_other  mobile   \n",
       "316789      316789   345704  2015-05-29 08:08:58   direct_traffic  mobile   \n",
       "316790      316790   108465  2015-03-29 20:25:55         ads-bing     web   \n",
       "316791      316791    26514  2015-05-26 15:55:08     seo_facebook     web   \n",
       "316792      316792   874512  2015-03-14 12:13:52     ads_facebook     web   \n",
       "316793      316793   680578  2015-04-24 10:13:45        seo-yahoo  mobile   \n",
       "316795      316795    17427  2015-04-11 09:29:15     ads_facebook     web   \n",
       "316796      316796   687787  2015-03-16 23:31:55   direct_traffic     web   \n",
       "316797      316797   618863  2015-04-11 01:35:19       ads-google     web   \n",
       "316798      316798   154636  2015-05-14 05:46:42  friend_referral  mobile   \n",
       "\n",
       "       operative_system  test  price  converted  profit  \n",
       "0                   iOS     0   39.0          0       0  \n",
       "1               android     0   39.0          0       0  \n",
       "2               android     0   39.0          0       0  \n",
       "4                   mac     0   39.0          0       0  \n",
       "5                   iOS     0   39.0          0       0  \n",
       "6               windows     0   39.0          0       0  \n",
       "10              windows     0   39.0          0       0  \n",
       "11                  mac     0   39.0          0       0  \n",
       "12              windows     0   39.0          0       0  \n",
       "13                  iOS     0   39.0          1      39  \n",
       "14                  iOS     0   39.0          0       0  \n",
       "16                  mac     0   39.0          0       0  \n",
       "17                  iOS     0   39.0          0       0  \n",
       "19                  iOS     0   39.0          0       0  \n",
       "20                  iOS     0   39.0          0       0  \n",
       "21              windows     0   39.0          0       0  \n",
       "22              windows     0   39.0          0       0  \n",
       "23                  mac     0   39.0          0       0  \n",
       "26              windows     0   39.0          0       0  \n",
       "30                  iOS     0   39.0          0       0  \n",
       "31                  iOS     0   39.0          0       0  \n",
       "32                  iOS     0   39.0          0       0  \n",
       "34              windows     0   39.0          0       0  \n",
       "37              windows     0   39.0          0       0  \n",
       "39              windows     0   39.0          0       0  \n",
       "40              android     0   39.0          0       0  \n",
       "43                  iOS     0   39.0          0       0  \n",
       "44              android     0   39.0          0       0  \n",
       "48                  iOS     0   39.0          0       0  \n",
       "49              windows     0   39.0          0       0  \n",
       "...                 ...   ...    ...        ...     ...  \n",
       "316759          windows     0   39.0          0       0  \n",
       "316760          windows     0   39.0          0       0  \n",
       "316761              mac     0   39.0          0       0  \n",
       "316763          windows     0   39.0          0       0  \n",
       "316764              iOS     0   39.0          0       0  \n",
       "316766          windows     0   39.0          0       0  \n",
       "316767          android     0   39.0          0       0  \n",
       "316768              iOS     0   39.0          0       0  \n",
       "316769              iOS     0   39.0          0       0  \n",
       "316771          windows     0   39.0          0       0  \n",
       "316773          android     0   39.0          0       0  \n",
       "316774              iOS     0   39.0          0       0  \n",
       "316779          windows     0   39.0          0       0  \n",
       "316780              iOS     0   39.0          0       0  \n",
       "316781              iOS     0   39.0          0       0  \n",
       "316783              iOS     0   39.0          0       0  \n",
       "316784              iOS     0   39.0          0       0  \n",
       "316785              iOS     0   39.0          0       0  \n",
       "316786          windows     0   39.0          0       0  \n",
       "316787              iOS     0   39.0          0       0  \n",
       "316788          android     0   39.0          0       0  \n",
       "316789              iOS     0   39.0          0       0  \n",
       "316790          windows     0   39.0          0       0  \n",
       "316791          windows     0   39.0          0       0  \n",
       "316792          windows     0   39.0          0       0  \n",
       "316793              iOS     0   39.0          0       0  \n",
       "316795          windows     0   39.0          0       0  \n",
       "316796          windows     0   39.0          0       0  \n",
       "316797              mac     0   39.0          0       0  \n",
       "316798          android     0   39.0          0       0  \n",
       "\n",
       "[200593 rows x 10 columns]"
      ]
     },
     "execution_count": 77,
     "metadata": {},
     "output_type": "execute_result"
    }
   ],
   "source": [
    "test_results[test_results['test']==0]"
   ]
  },
  {
   "cell_type": "code",
   "execution_count": 82,
   "metadata": {},
   "outputs": [
    {
     "data": {
      "text/plain": [
       "Text(0,0.5,'Percentage of Conversion Rate')"
      ]
     },
     "execution_count": 82,
     "metadata": {},
     "output_type": "execute_result"
    },
    {
     "data": {
      "image/png": "[encoded data removed]",
      "text/plain": [
       "<matplotlib.figure.Figure at 0x7f53fa9ed278>"
      ]
     },
     "metadata": {},
     "output_type": "display_data"
    }
   ],
   "source": [
    "# conversion rate vs parameters\n",
    "plt.bar(test_results['device'].value_counts().keys(), 100*test_results[test_results['test']==0].groupby(['device'])['converted'].mean(), alpha =0.5)\n",
    "plt.bar(test_results['device'].value_counts().keys(), 100*test_results[test_results['test']==1].groupby(['device'])['converted'].mean(), alpha =0.5)\n",
    "plt.ylabel('Percentage of Conversion Rate')"
   ]
  },
  {
   "cell_type": "code",
   "execution_count": null,
   "metadata": {},
   "outputs": [],
   "source": []
  }
 ],
 "metadata": {
  "kernelspec": {
   "display_name": "Python 3",
   "language": "python",
   "name": "python3"
  },
  "language_info": {
   "codemirror_mode": {
    "name": "ipython",
    "version": 3
   },
   "file_extension": ".py",
   "mimetype": "text/x-python",
   "name": "python",
   "nbconvert_exporter": "python",
   "pygments_lexer": "ipython3",
   "version": "3.6.4"
  }
 },
 "nbformat": 4,
 "nbformat_minor": 2
}
